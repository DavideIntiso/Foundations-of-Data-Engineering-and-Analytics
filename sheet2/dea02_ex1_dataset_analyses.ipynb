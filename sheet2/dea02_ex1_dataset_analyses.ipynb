{
 "cells": [
  {
   "cell_type": "code",
   "execution_count": 1,
   "id": "00fdb794",
   "metadata": {},
   "outputs": [],
   "source": [
    "import math\n",
    "import os\n",
    "\n",
    "import pandas as pd\n",
    "\n",
    "pd.options.mode.chained_assignment = None  # default='warn'\n",
    "import seaborn as sb\n",
    "import statsmodels.api as sm\n",
    "from matplotlib import pyplot as plt\n",
    "from scipy.stats import norm"
   ]
  },
  {
   "cell_type": "code",
   "execution_count": 2,
   "id": "e43b7232",
   "metadata": {},
   "outputs": [],
   "source": [
    "data_dir = \"./data\""
   ]
  },
  {
   "cell_type": "code",
   "execution_count": 3,
   "id": "466949b7",
   "metadata": {},
   "outputs": [],
   "source": [
    "data = pd.read_json(os.path.join(data_dir, \"dessert.json\"))"
   ]
  },
  {
   "cell_type": "markdown",
   "id": "d0519d08-fad1-438a-a59e-9f0e3dc665a0",
   "metadata": {},
   "source": [
    "## Data inspection"
   ]
  },
  {
   "cell_type": "code",
   "execution_count": 4,
   "id": "eff85978-9442-438f-bb3a-305b1d401063",
   "metadata": {},
   "outputs": [
    {
     "name": "stdout",
     "output_type": "stream",
     "text": [
      "<class 'pandas.core.frame.DataFrame'>\n",
      "RangeIndex: 392 entries, 0 to 391\n",
      "Data columns (total 7 columns):\n",
      " #   Column        Non-Null Count  Dtype \n",
      "---  ------        --------------  ----- \n",
      " 0   id            392 non-null    int64 \n",
      " 1   description   392 non-null    object\n",
      " 2   tags          392 non-null    object\n",
      " 3   manufacturer  254 non-null    object\n",
      " 4   type          390 non-null    object\n",
      " 5   portions      392 non-null    object\n",
      " 6   nutrients     392 non-null    object\n",
      "dtypes: int64(1), object(6)\n",
      "memory usage: 21.6+ KB\n"
     ]
    }
   ],
   "source": [
    "data.info()"
   ]
  },
  {
   "cell_type": "code",
   "execution_count": 5,
   "id": "66fc95b1-39a0-4ce6-ab99-8428937f20d0",
   "metadata": {},
   "outputs": [
    {
     "data": {
      "text/plain": [
       "id                0\n",
       "description       0\n",
       "tags              0\n",
       "manufacturer    138\n",
       "type              2\n",
       "portions          0\n",
       "nutrients         0\n",
       "dtype: int64"
      ]
     },
     "execution_count": 5,
     "metadata": {},
     "output_type": "execute_result"
    }
   ],
   "source": [
    "data.isnull().sum()"
   ]
  },
  {
   "cell_type": "code",
   "execution_count": 6,
   "id": "367ef5f7-415a-45e8-a177-19c092c97f53",
   "metadata": {},
   "outputs": [
    {
     "data": {
      "text/plain": [
       "(392, 7)"
      ]
     },
     "execution_count": 6,
     "metadata": {},
     "output_type": "execute_result"
    }
   ],
   "source": [
    "data.shape"
   ]
  },
  {
   "cell_type": "code",
   "execution_count": 7,
   "id": "4c0be9fd-88eb-41aa-89b3-e70cd68d2d3a",
   "metadata": {},
   "outputs": [
    {
     "data": {
      "text/plain": [
       "Index(['id', 'description', 'tags', 'manufacturer', 'type', 'portions',\n",
       "       'nutrients'],\n",
       "      dtype='object')"
      ]
     },
     "execution_count": 7,
     "metadata": {},
     "output_type": "execute_result"
    }
   ],
   "source": [
    "data.columns"
   ]
  },
  {
   "cell_type": "code",
   "execution_count": 8,
   "id": "40b00390",
   "metadata": {},
   "outputs": [
    {
     "data": {
      "text/html": [
       "<div>\n",
       "<style scoped>\n",
       "    .dataframe tbody tr th:only-of-type {\n",
       "        vertical-align: middle;\n",
       "    }\n",
       "\n",
       "    .dataframe tbody tr th {\n",
       "        vertical-align: top;\n",
       "    }\n",
       "\n",
       "    .dataframe thead th {\n",
       "        text-align: right;\n",
       "    }\n",
       "</style>\n",
       "<table border=\"1\" class=\"dataframe\">\n",
       "  <thead>\n",
       "    <tr style=\"text-align: right;\">\n",
       "      <th></th>\n",
       "      <th>id</th>\n",
       "      <th>description</th>\n",
       "      <th>tags</th>\n",
       "      <th>manufacturer</th>\n",
       "      <th>type</th>\n",
       "      <th>portions</th>\n",
       "      <th>nutrients</th>\n",
       "    </tr>\n",
       "  </thead>\n",
       "  <tbody>\n",
       "    <tr>\n",
       "      <th>0</th>\n",
       "      <td>18011</td>\n",
       "      <td>Biscuits, plain or buttermilk, dry mix, prepared</td>\n",
       "      <td>[]</td>\n",
       "      <td>None</td>\n",
       "      <td>Biscuits</td>\n",
       "      <td>[{'amount': 1, 'unit': 'oz', 'grams': 28.35}]</td>\n",
       "      <td>[{'value': 7.3, 'units': 'g', 'description': '...</td>\n",
       "    </tr>\n",
       "    <tr>\n",
       "      <th>1</th>\n",
       "      <td>18012</td>\n",
       "      <td>Biscuits, plain or buttermilk, refrigerated do...</td>\n",
       "      <td>[]</td>\n",
       "      <td></td>\n",
       "      <td>Biscuits</td>\n",
       "      <td>[{'amount': 1, 'unit': 'oz', 'grams': 28.35}, ...</td>\n",
       "      <td>[{'value': 6.7, 'units': 'g', 'description': '...</td>\n",
       "    </tr>\n",
       "    <tr>\n",
       "      <th>2</th>\n",
       "      <td>18013</td>\n",
       "      <td>Biscuits, plain or buttermilk, refrigerated do...</td>\n",
       "      <td>[]</td>\n",
       "      <td>None</td>\n",
       "      <td>Biscuits</td>\n",
       "      <td>[{'amount': 1, 'unit': 'oz', 'grams': 28.35}, ...</td>\n",
       "      <td>[{'value': 7.8, 'units': 'g', 'description': '...</td>\n",
       "    </tr>\n",
       "    <tr>\n",
       "      <th>3</th>\n",
       "      <td>18014</td>\n",
       "      <td>Biscuits, plain or buttermilk, refrigerated do...</td>\n",
       "      <td>[]</td>\n",
       "      <td>None</td>\n",
       "      <td>Biscuits</td>\n",
       "      <td>[{'amount': 1, 'unit': 'oz', 'grams': 28.35}, ...</td>\n",
       "      <td>[{'value': 6.66, 'units': 'g', 'description': ...</td>\n",
       "    </tr>\n",
       "    <tr>\n",
       "      <th>4</th>\n",
       "      <td>18015</td>\n",
       "      <td>Biscuits, plain or buttermilk, refrigerated do...</td>\n",
       "      <td>[]</td>\n",
       "      <td>None</td>\n",
       "      <td>Biscuits</td>\n",
       "      <td>[{'amount': 1, 'unit': 'oz', 'grams': 28.35}, ...</td>\n",
       "      <td>[{'value': 7.38, 'units': 'g', 'description': ...</td>\n",
       "    </tr>\n",
       "  </tbody>\n",
       "</table>\n",
       "</div>"
      ],
      "text/plain": [
       "      id                                        description tags manufacturer  \\\n",
       "0  18011   Biscuits, plain or buttermilk, dry mix, prepared   []         None   \n",
       "1  18012  Biscuits, plain or buttermilk, refrigerated do...   []                \n",
       "2  18013  Biscuits, plain or buttermilk, refrigerated do...   []         None   \n",
       "3  18014  Biscuits, plain or buttermilk, refrigerated do...   []         None   \n",
       "4  18015  Biscuits, plain or buttermilk, refrigerated do...   []         None   \n",
       "\n",
       "       type                                           portions  \\\n",
       "0  Biscuits      [{'amount': 1, 'unit': 'oz', 'grams': 28.35}]   \n",
       "1  Biscuits  [{'amount': 1, 'unit': 'oz', 'grams': 28.35}, ...   \n",
       "2  Biscuits  [{'amount': 1, 'unit': 'oz', 'grams': 28.35}, ...   \n",
       "3  Biscuits  [{'amount': 1, 'unit': 'oz', 'grams': 28.35}, ...   \n",
       "4  Biscuits  [{'amount': 1, 'unit': 'oz', 'grams': 28.35}, ...   \n",
       "\n",
       "                                           nutrients  \n",
       "0  [{'value': 7.3, 'units': 'g', 'description': '...  \n",
       "1  [{'value': 6.7, 'units': 'g', 'description': '...  \n",
       "2  [{'value': 7.8, 'units': 'g', 'description': '...  \n",
       "3  [{'value': 6.66, 'units': 'g', 'description': ...  \n",
       "4  [{'value': 7.38, 'units': 'g', 'description': ...  "
      ]
     },
     "execution_count": 8,
     "metadata": {},
     "output_type": "execute_result"
    }
   ],
   "source": [
    "data.head()"
   ]
  },
  {
   "cell_type": "code",
   "execution_count": 9,
   "id": "54cf0fae",
   "metadata": {},
   "outputs": [
    {
     "data": {
      "text/html": [
       "<div>\n",
       "<style scoped>\n",
       "    .dataframe tbody tr th:only-of-type {\n",
       "        vertical-align: middle;\n",
       "    }\n",
       "\n",
       "    .dataframe tbody tr th {\n",
       "        vertical-align: top;\n",
       "    }\n",
       "\n",
       "    .dataframe thead th {\n",
       "        text-align: right;\n",
       "    }\n",
       "</style>\n",
       "<table border=\"1\" class=\"dataframe\">\n",
       "  <thead>\n",
       "    <tr style=\"text-align: right;\">\n",
       "      <th></th>\n",
       "      <th>description</th>\n",
       "      <th>tags</th>\n",
       "      <th>manufacturer</th>\n",
       "      <th>type</th>\n",
       "      <th>portions</th>\n",
       "      <th>nutrients</th>\n",
       "    </tr>\n",
       "    <tr>\n",
       "      <th>id</th>\n",
       "      <th></th>\n",
       "      <th></th>\n",
       "      <th></th>\n",
       "      <th></th>\n",
       "      <th></th>\n",
       "      <th></th>\n",
       "    </tr>\n",
       "  </thead>\n",
       "  <tbody>\n",
       "    <tr>\n",
       "      <th>18011</th>\n",
       "      <td>Biscuits, plain or buttermilk, dry mix, prepared</td>\n",
       "      <td>[]</td>\n",
       "      <td>None</td>\n",
       "      <td>Biscuits</td>\n",
       "      <td>[{'amount': 1, 'unit': 'oz', 'grams': 28.35}]</td>\n",
       "      <td>[{'value': 7.3, 'units': 'g', 'description': '...</td>\n",
       "    </tr>\n",
       "    <tr>\n",
       "      <th>18012</th>\n",
       "      <td>Biscuits, plain or buttermilk, refrigerated do...</td>\n",
       "      <td>[]</td>\n",
       "      <td></td>\n",
       "      <td>Biscuits</td>\n",
       "      <td>[{'amount': 1, 'unit': 'oz', 'grams': 28.35}, ...</td>\n",
       "      <td>[{'value': 6.7, 'units': 'g', 'description': '...</td>\n",
       "    </tr>\n",
       "    <tr>\n",
       "      <th>18013</th>\n",
       "      <td>Biscuits, plain or buttermilk, refrigerated do...</td>\n",
       "      <td>[]</td>\n",
       "      <td>None</td>\n",
       "      <td>Biscuits</td>\n",
       "      <td>[{'amount': 1, 'unit': 'oz', 'grams': 28.35}, ...</td>\n",
       "      <td>[{'value': 7.8, 'units': 'g', 'description': '...</td>\n",
       "    </tr>\n",
       "    <tr>\n",
       "      <th>18014</th>\n",
       "      <td>Biscuits, plain or buttermilk, refrigerated do...</td>\n",
       "      <td>[]</td>\n",
       "      <td>None</td>\n",
       "      <td>Biscuits</td>\n",
       "      <td>[{'amount': 1, 'unit': 'oz', 'grams': 28.35}, ...</td>\n",
       "      <td>[{'value': 6.66, 'units': 'g', 'description': ...</td>\n",
       "    </tr>\n",
       "    <tr>\n",
       "      <th>18015</th>\n",
       "      <td>Biscuits, plain or buttermilk, refrigerated do...</td>\n",
       "      <td>[]</td>\n",
       "      <td>None</td>\n",
       "      <td>Biscuits</td>\n",
       "      <td>[{'amount': 1, 'unit': 'oz', 'grams': 28.35}, ...</td>\n",
       "      <td>[{'value': 7.38, 'units': 'g', 'description': ...</td>\n",
       "    </tr>\n",
       "  </tbody>\n",
       "</table>\n",
       "</div>"
      ],
      "text/plain": [
       "                                             description tags manufacturer  \\\n",
       "id                                                                           \n",
       "18011   Biscuits, plain or buttermilk, dry mix, prepared   []         None   \n",
       "18012  Biscuits, plain or buttermilk, refrigerated do...   []                \n",
       "18013  Biscuits, plain or buttermilk, refrigerated do...   []         None   \n",
       "18014  Biscuits, plain or buttermilk, refrigerated do...   []         None   \n",
       "18015  Biscuits, plain or buttermilk, refrigerated do...   []         None   \n",
       "\n",
       "           type                                           portions  \\\n",
       "id                                                                   \n",
       "18011  Biscuits      [{'amount': 1, 'unit': 'oz', 'grams': 28.35}]   \n",
       "18012  Biscuits  [{'amount': 1, 'unit': 'oz', 'grams': 28.35}, ...   \n",
       "18013  Biscuits  [{'amount': 1, 'unit': 'oz', 'grams': 28.35}, ...   \n",
       "18014  Biscuits  [{'amount': 1, 'unit': 'oz', 'grams': 28.35}, ...   \n",
       "18015  Biscuits  [{'amount': 1, 'unit': 'oz', 'grams': 28.35}, ...   \n",
       "\n",
       "                                               nutrients  \n",
       "id                                                        \n",
       "18011  [{'value': 7.3, 'units': 'g', 'description': '...  \n",
       "18012  [{'value': 6.7, 'units': 'g', 'description': '...  \n",
       "18013  [{'value': 7.8, 'units': 'g', 'description': '...  \n",
       "18014  [{'value': 6.66, 'units': 'g', 'description': ...  \n",
       "18015  [{'value': 7.38, 'units': 'g', 'description': ...  "
      ]
     },
     "execution_count": 9,
     "metadata": {},
     "output_type": "execute_result"
    }
   ],
   "source": [
    "# set index because there is already a valid id\n",
    "data = data.set_index(\"id\")\n",
    "data.head()"
   ]
  },
  {
   "cell_type": "markdown",
   "id": "0c15d736",
   "metadata": {
    "tags": []
   },
   "source": [
    "## Exercise 1\n",
    "\n",
    "### 1 a)"
   ]
  },
  {
   "cell_type": "code",
   "execution_count": 10,
   "id": "7538ac4d",
   "metadata": {},
   "outputs": [
    {
     "data": {
      "text/plain": [
       "173"
      ]
     },
     "execution_count": 10,
     "metadata": {},
     "output_type": "execute_result"
    }
   ],
   "source": [
    "# Check for empty values in the manufacturer column\n",
    "(data[\"manufacturer\"] == \"\").sum()"
   ]
  },
  {
   "cell_type": "code",
   "execution_count": 11,
   "id": "dc0f78f5",
   "metadata": {},
   "outputs": [
    {
     "data": {
      "text/plain": [
       "0"
      ]
     },
     "execution_count": 11,
     "metadata": {},
     "output_type": "execute_result"
    }
   ],
   "source": [
    "# Transform empty type values of manufacturer to None\n",
    "data.loc[data.manufacturer == \"\", \"manufacturer\"] = None\n",
    "(data[\"manufacturer\"] == \"\").sum()"
   ]
  },
  {
   "cell_type": "code",
   "execution_count": 12,
   "id": "ad7df474",
   "metadata": {},
   "outputs": [
    {
     "data": {
      "text/plain": [
       "Cake                108\n",
       "Cookies              86\n",
       "Sweet Bread          61\n",
       "Savory Bread         41\n",
       "Toaster Pastries     25\n",
       "Biscuits             24\n",
       "Muffins              17\n",
       "Sweet bread           9\n",
       "Puff Pastry           5\n",
       "Sweet Breads          3\n",
       "Cream Puff            3\n",
       "Coookies              2\n",
       "Biscuit               1\n",
       "Muesli                1\n",
       "Savory bread          1\n",
       "Muffin                1\n",
       "sweet bread           1\n",
       "Cookie                1\n",
       "Name: type, dtype: int64"
      ]
     },
     "execution_count": 12,
     "metadata": {},
     "output_type": "execute_result"
    }
   ],
   "source": [
    "# Check values in the type column\n",
    "data.type.value_counts()"
   ]
  },
  {
   "cell_type": "code",
   "execution_count": 13,
   "id": "f486be06",
   "metadata": {},
   "outputs": [],
   "source": [
    "# transform troublesome type values\n",
    "data.loc[data.type.isin([\"Coookies\", \"Cookie\"]), \"type\"] = \"Cookies\"\n",
    "data.loc[\n",
    "    data.type.isin([\"Sweet bread\", \"sweet bread\", \"Sweet Breads\"]), \"type\"\n",
    "] = \"Sweet Bread\"\n",
    "data.loc[data.type == \"Savory bread\", \"type\"] = \"Savory Bread\"\n",
    "data.loc[data.type == \"Biscuit\", \"type\"] = \"Biscuits\"\n",
    "data.loc[data.type == \"Muffin\", \"type\"] = \"Muffins\""
   ]
  },
  {
   "cell_type": "code",
   "execution_count": 14,
   "id": "c5167640",
   "metadata": {},
   "outputs": [
    {
     "data": {
      "text/plain": [
       "Cake                108\n",
       "Cookies              89\n",
       "Sweet Bread          74\n",
       "Savory Bread         42\n",
       "Biscuits             25\n",
       "Toaster Pastries     25\n",
       "Muffins              18\n",
       "Puff Pastry           5\n",
       "Cream Puff            3\n",
       "Muesli                1\n",
       "Name: type, dtype: int64"
      ]
     },
     "execution_count": 14,
     "metadata": {},
     "output_type": "execute_result"
    }
   ],
   "source": [
    "data.type.value_counts()"
   ]
  },
  {
   "cell_type": "code",
   "execution_count": 15,
   "id": "64289a6e",
   "metadata": {},
   "outputs": [
    {
     "data": {
      "text/plain": [
       "[]                               388\n",
       "[Latino food]                      2\n",
       "[Include commodity code B367]      1\n",
       "[Include commodity code B368]      1\n",
       "Name: tags, dtype: int64"
      ]
     },
     "execution_count": 15,
     "metadata": {},
     "output_type": "execute_result"
    }
   ],
   "source": [
    "# Check values in the tags column\n",
    "data.tags.value_counts()"
   ]
  },
  {
   "cell_type": "code",
   "execution_count": 16,
   "id": "ec11eb28",
   "metadata": {},
   "outputs": [
    {
     "data": {
      "text/html": [
       "<div>\n",
       "<style scoped>\n",
       "    .dataframe tbody tr th:only-of-type {\n",
       "        vertical-align: middle;\n",
       "    }\n",
       "\n",
       "    .dataframe tbody tr th {\n",
       "        vertical-align: top;\n",
       "    }\n",
       "\n",
       "    .dataframe thead th {\n",
       "        text-align: right;\n",
       "    }\n",
       "</style>\n",
       "<table border=\"1\" class=\"dataframe\">\n",
       "  <thead>\n",
       "    <tr style=\"text-align: right;\">\n",
       "      <th></th>\n",
       "      <th>description</th>\n",
       "      <th>manufacturer</th>\n",
       "      <th>type</th>\n",
       "      <th>portions</th>\n",
       "      <th>nutrients</th>\n",
       "    </tr>\n",
       "    <tr>\n",
       "      <th>id</th>\n",
       "      <th></th>\n",
       "      <th></th>\n",
       "      <th></th>\n",
       "      <th></th>\n",
       "      <th></th>\n",
       "    </tr>\n",
       "  </thead>\n",
       "  <tbody>\n",
       "    <tr>\n",
       "      <th>18011</th>\n",
       "      <td>Biscuits, plain or buttermilk, dry mix, prepared</td>\n",
       "      <td>None</td>\n",
       "      <td>Biscuits</td>\n",
       "      <td>[{'amount': 1, 'unit': 'oz', 'grams': 28.35}]</td>\n",
       "      <td>[{'value': 7.3, 'units': 'g', 'description': '...</td>\n",
       "    </tr>\n",
       "    <tr>\n",
       "      <th>18012</th>\n",
       "      <td>Biscuits, plain or buttermilk, refrigerated do...</td>\n",
       "      <td>None</td>\n",
       "      <td>Biscuits</td>\n",
       "      <td>[{'amount': 1, 'unit': 'oz', 'grams': 28.35}, ...</td>\n",
       "      <td>[{'value': 6.7, 'units': 'g', 'description': '...</td>\n",
       "    </tr>\n",
       "    <tr>\n",
       "      <th>18013</th>\n",
       "      <td>Biscuits, plain or buttermilk, refrigerated do...</td>\n",
       "      <td>None</td>\n",
       "      <td>Biscuits</td>\n",
       "      <td>[{'amount': 1, 'unit': 'oz', 'grams': 28.35}, ...</td>\n",
       "      <td>[{'value': 7.8, 'units': 'g', 'description': '...</td>\n",
       "    </tr>\n",
       "    <tr>\n",
       "      <th>18014</th>\n",
       "      <td>Biscuits, plain or buttermilk, refrigerated do...</td>\n",
       "      <td>None</td>\n",
       "      <td>Biscuits</td>\n",
       "      <td>[{'amount': 1, 'unit': 'oz', 'grams': 28.35}, ...</td>\n",
       "      <td>[{'value': 6.66, 'units': 'g', 'description': ...</td>\n",
       "    </tr>\n",
       "    <tr>\n",
       "      <th>18015</th>\n",
       "      <td>Biscuits, plain or buttermilk, refrigerated do...</td>\n",
       "      <td>None</td>\n",
       "      <td>Biscuits</td>\n",
       "      <td>[{'amount': 1, 'unit': 'oz', 'grams': 28.35}, ...</td>\n",
       "      <td>[{'value': 7.38, 'units': 'g', 'description': ...</td>\n",
       "    </tr>\n",
       "  </tbody>\n",
       "</table>\n",
       "</div>"
      ],
      "text/plain": [
       "                                             description manufacturer  \\\n",
       "id                                                                      \n",
       "18011   Biscuits, plain or buttermilk, dry mix, prepared         None   \n",
       "18012  Biscuits, plain or buttermilk, refrigerated do...         None   \n",
       "18013  Biscuits, plain or buttermilk, refrigerated do...         None   \n",
       "18014  Biscuits, plain or buttermilk, refrigerated do...         None   \n",
       "18015  Biscuits, plain or buttermilk, refrigerated do...         None   \n",
       "\n",
       "           type                                           portions  \\\n",
       "id                                                                   \n",
       "18011  Biscuits      [{'amount': 1, 'unit': 'oz', 'grams': 28.35}]   \n",
       "18012  Biscuits  [{'amount': 1, 'unit': 'oz', 'grams': 28.35}, ...   \n",
       "18013  Biscuits  [{'amount': 1, 'unit': 'oz', 'grams': 28.35}, ...   \n",
       "18014  Biscuits  [{'amount': 1, 'unit': 'oz', 'grams': 28.35}, ...   \n",
       "18015  Biscuits  [{'amount': 1, 'unit': 'oz', 'grams': 28.35}, ...   \n",
       "\n",
       "                                               nutrients  \n",
       "id                                                        \n",
       "18011  [{'value': 7.3, 'units': 'g', 'description': '...  \n",
       "18012  [{'value': 6.7, 'units': 'g', 'description': '...  \n",
       "18013  [{'value': 7.8, 'units': 'g', 'description': '...  \n",
       "18014  [{'value': 6.66, 'units': 'g', 'description': ...  \n",
       "18015  [{'value': 7.38, 'units': 'g', 'description': ...  "
      ]
     },
     "execution_count": 16,
     "metadata": {},
     "output_type": "execute_result"
    }
   ],
   "source": [
    "# drop the column \"tags\" because because it contains too little information (just 4 entries)\n",
    "data = data.drop(\"tags\", axis=1)\n",
    "data.head()"
   ]
  },
  {
   "cell_type": "markdown",
   "id": "5a8a6197-fa49-4e0b-89a3-44d4fa2c3aa2",
   "metadata": {},
   "source": [
    "Check for problems in data"
   ]
  },
  {
   "cell_type": "code",
   "execution_count": 17,
   "id": "e7d759a0-140b-4838-9924-9a6e3bcc8e23",
   "metadata": {},
   "outputs": [],
   "source": [
    "for value in data.index:\n",
    "    if value is None:\n",
    "        print(f\"{value}: Missing\")\n",
    "    elif isinstance(value, float) and math.isnan(value):\n",
    "        print(f\"{value}: Not a Number\")\n",
    "    elif not value:\n",
    "        print(\n",
    "            f\"{value}: Empty value ({repr(value)})\"\n",
    "        )  # return representable string"
   ]
  },
  {
   "cell_type": "code",
   "execution_count": 18,
   "id": "270e0265-b972-4892-b492-68e5e024e79d",
   "metadata": {},
   "outputs": [],
   "source": [
    "for value in data[\"description\"]:\n",
    "    if value is None:\n",
    "        print(f\"{value}: Missing\")\n",
    "    elif isinstance(value, float) and math.isnan(value):\n",
    "        print(f\"{value}: Not a Number\")\n",
    "    elif not value:\n",
    "        print(\n",
    "            f\"{value}: Empty value ({repr(value)})\"\n",
    "        )  # return representable string"
   ]
  },
  {
   "cell_type": "code",
   "execution_count": 19,
   "id": "0c114721",
   "metadata": {},
   "outputs": [
    {
     "name": "stdout",
     "output_type": "stream",
     "text": [
      "None: Missing\n",
      "None: Missing\n"
     ]
    }
   ],
   "source": [
    "for value in data[\"type\"]:\n",
    "    if value is None:\n",
    "        print(f\"{value}: Missing\")\n",
    "    elif isinstance(value, float) and math.isnan(value):\n",
    "        print(f\"{value}: Not a Number\")\n",
    "    elif not value:\n",
    "        print(\n",
    "            f\"{value}: Empty value ({repr(value)})\"\n",
    "        )  # return representable string"
   ]
  },
  {
   "cell_type": "code",
   "execution_count": 20,
   "id": "d2c27d65",
   "metadata": {
    "scrolled": true
   },
   "outputs": [
    {
     "data": {
      "text/html": [
       "<div>\n",
       "<style scoped>\n",
       "    .dataframe tbody tr th:only-of-type {\n",
       "        vertical-align: middle;\n",
       "    }\n",
       "\n",
       "    .dataframe tbody tr th {\n",
       "        vertical-align: top;\n",
       "    }\n",
       "\n",
       "    .dataframe thead th {\n",
       "        text-align: right;\n",
       "    }\n",
       "</style>\n",
       "<table border=\"1\" class=\"dataframe\">\n",
       "  <thead>\n",
       "    <tr style=\"text-align: right;\">\n",
       "      <th></th>\n",
       "      <th>description</th>\n",
       "      <th>manufacturer</th>\n",
       "      <th>type</th>\n",
       "      <th>portions</th>\n",
       "      <th>nutrients</th>\n",
       "    </tr>\n",
       "    <tr>\n",
       "      <th>id</th>\n",
       "      <th></th>\n",
       "      <th></th>\n",
       "      <th></th>\n",
       "      <th></th>\n",
       "      <th></th>\n",
       "    </tr>\n",
       "  </thead>\n",
       "  <tbody>\n",
       "    <tr>\n",
       "      <th>18048</th>\n",
       "      <td>Raisin bread (toasted)</td>\n",
       "      <td>None</td>\n",
       "      <td>None</td>\n",
       "      <td>[{'amount': 1, 'unit': 'oz', 'grams': 28.35}, ...</td>\n",
       "      <td>[{'value': 8.6, 'units': 'g', 'description': '...</td>\n",
       "    </tr>\n",
       "    <tr>\n",
       "      <th>18642</th>\n",
       "      <td>GENERAL MILLS, BETTY CROCKER SUPERMOIST Yellow...</td>\n",
       "      <td>General Mills Inc.</td>\n",
       "      <td>None</td>\n",
       "      <td>[{'amount': 1, 'unit': 'serving', 'grams': 43.0}]</td>\n",
       "      <td>[{'value': 3.8, 'units': 'g', 'description': '...</td>\n",
       "    </tr>\n",
       "  </tbody>\n",
       "</table>\n",
       "</div>"
      ],
      "text/plain": [
       "                                             description        manufacturer  \\\n",
       "id                                                                             \n",
       "18048                             Raisin bread (toasted)                None   \n",
       "18642  GENERAL MILLS, BETTY CROCKER SUPERMOIST Yellow...  General Mills Inc.   \n",
       "\n",
       "       type                                           portions  \\\n",
       "id                                                               \n",
       "18048  None  [{'amount': 1, 'unit': 'oz', 'grams': 28.35}, ...   \n",
       "18642  None  [{'amount': 1, 'unit': 'serving', 'grams': 43.0}]   \n",
       "\n",
       "                                               nutrients  \n",
       "id                                                        \n",
       "18048  [{'value': 8.6, 'units': 'g', 'description': '...  \n",
       "18642  [{'value': 3.8, 'units': 'g', 'description': '...  "
      ]
     },
     "execution_count": 20,
     "metadata": {},
     "output_type": "execute_result"
    }
   ],
   "source": [
    "# look at data with type None\n",
    "data.loc[data[\"type\"].isnull()]"
   ]
  },
  {
   "cell_type": "code",
   "execution_count": 21,
   "id": "8466b631-04a6-432b-a066-f81365968100",
   "metadata": {},
   "outputs": [
    {
     "name": "stdout",
     "output_type": "stream",
     "text": [
      "Raisin bread (toasted)\n"
     ]
    }
   ],
   "source": [
    "print(data.at[18048, \"description\"])"
   ]
  },
  {
   "cell_type": "code",
   "execution_count": 22,
   "id": "07d540d7-1bc0-4407-ab6f-a2ea6be96ec4",
   "metadata": {},
   "outputs": [
    {
     "name": "stdout",
     "output_type": "stream",
     "text": [
      "GENERAL MILLS, BETTY CROCKER SUPERMOIST Yellow Cake Mix, dry\n"
     ]
    }
   ],
   "source": [
    "print(data.at[18642, \"description\"])"
   ]
  },
  {
   "cell_type": "code",
   "execution_count": 23,
   "id": "c5f926d7",
   "metadata": {},
   "outputs": [],
   "source": [
    "# Set missing type for empty type values\n",
    "data.at[18048, \"type\"] = \"Sweet Bread\"\n",
    "data.at[18642, \"type\"] = \"Cake\""
   ]
  },
  {
   "cell_type": "code",
   "execution_count": 24,
   "id": "cf8b1cd0",
   "metadata": {},
   "outputs": [],
   "source": [
    "# Look for empty values in nutrients\n",
    "for value in data[\"nutrients\"]:\n",
    "    if value is None:\n",
    "        print(f\"{value}: Missing\")\n",
    "    elif isinstance(value, float) and math.isnan(value):\n",
    "        print(f\"{value}: Not a Number\")\n",
    "    elif not value:\n",
    "        print(\n",
    "            f\"{value}: Empty value ({repr(value)})\"\n",
    "        )  # return representable string"
   ]
  },
  {
   "cell_type": "code",
   "execution_count": 25,
   "id": "66cc8462",
   "metadata": {
    "scrolled": true
   },
   "outputs": [
    {
     "name": "stdout",
     "output_type": "stream",
     "text": [
      "[]: Empty value ([])\n",
      "[]: Empty value ([])\n",
      "[]: Empty value ([])\n",
      "[]: Empty value ([])\n"
     ]
    }
   ],
   "source": [
    "# Look for empty values in portions\n",
    "\n",
    "for value in data[\"portions\"]:\n",
    "    if value is None:\n",
    "        print(f\"{value}: Missing\")\n",
    "    elif isinstance(value, float) and math.isnan(value):\n",
    "        print(f\"{value}: Not a Number\")\n",
    "    elif not value:\n",
    "        print(\n",
    "            f\"{value}: Empty value ({repr(value)})\"\n",
    "        )  # return representable string"
   ]
  },
  {
   "cell_type": "code",
   "execution_count": 26,
   "id": "5b0c80b8-b8ee-4214-ab1a-bf0bf87e0345",
   "metadata": {},
   "outputs": [],
   "source": [
    "# Remove empty values of portions\n",
    "for value in data[\"portions\"]:\n",
    "    if not value:\n",
    "        data.drop(data[\"portions\"][value], inplace=True)"
   ]
  },
  {
   "cell_type": "code",
   "execution_count": 27,
   "id": "4af9305e-d961-4d16-b63a-3f6d2fa64623",
   "metadata": {},
   "outputs": [
    {
     "data": {
      "text/html": [
       "<div>\n",
       "<style scoped>\n",
       "    .dataframe tbody tr th:only-of-type {\n",
       "        vertical-align: middle;\n",
       "    }\n",
       "\n",
       "    .dataframe tbody tr th {\n",
       "        vertical-align: top;\n",
       "    }\n",
       "\n",
       "    .dataframe thead th {\n",
       "        text-align: right;\n",
       "    }\n",
       "</style>\n",
       "<table border=\"1\" class=\"dataframe\">\n",
       "  <thead>\n",
       "    <tr style=\"text-align: right;\">\n",
       "      <th></th>\n",
       "      <th>id</th>\n",
       "      <th>amount</th>\n",
       "      <th>unit</th>\n",
       "      <th>grams</th>\n",
       "    </tr>\n",
       "  </thead>\n",
       "  <tbody>\n",
       "    <tr>\n",
       "      <th>0</th>\n",
       "      <td>18011</td>\n",
       "      <td>1</td>\n",
       "      <td>oz</td>\n",
       "      <td>28.35</td>\n",
       "    </tr>\n",
       "    <tr>\n",
       "      <th>1</th>\n",
       "      <td>18012</td>\n",
       "      <td>1</td>\n",
       "      <td>oz</td>\n",
       "      <td>28.35</td>\n",
       "    </tr>\n",
       "    <tr>\n",
       "      <th>2</th>\n",
       "      <td>18012</td>\n",
       "      <td>2</td>\n",
       "      <td>biscuit (2 dia)</td>\n",
       "      <td>23.00</td>\n",
       "    </tr>\n",
       "    <tr>\n",
       "      <th>3</th>\n",
       "      <td>18013</td>\n",
       "      <td>1</td>\n",
       "      <td>oz</td>\n",
       "      <td>28.35</td>\n",
       "    </tr>\n",
       "    <tr>\n",
       "      <th>4</th>\n",
       "      <td>18013</td>\n",
       "      <td>2</td>\n",
       "      <td>biscuit (2-1/4 dia)</td>\n",
       "      <td>21.00</td>\n",
       "    </tr>\n",
       "    <tr>\n",
       "      <th>...</th>\n",
       "      <td>...</td>\n",
       "      <td>...</td>\n",
       "      <td>...</td>\n",
       "      <td>...</td>\n",
       "    </tr>\n",
       "    <tr>\n",
       "      <th>748</th>\n",
       "      <td>18400</td>\n",
       "      <td>1</td>\n",
       "      <td>waffles round</td>\n",
       "      <td>70.00</td>\n",
       "    </tr>\n",
       "    <tr>\n",
       "      <th>749</th>\n",
       "      <td>18401</td>\n",
       "      <td>1</td>\n",
       "      <td>serving (approximate serving size)</td>\n",
       "      <td>55.00</td>\n",
       "    </tr>\n",
       "    <tr>\n",
       "      <th>750</th>\n",
       "      <td>18401</td>\n",
       "      <td>2</td>\n",
       "      <td>cake square (average weight of whole item)</td>\n",
       "      <td>399.00</td>\n",
       "    </tr>\n",
       "    <tr>\n",
       "      <th>751</th>\n",
       "      <td>18402</td>\n",
       "      <td>1</td>\n",
       "      <td>serving</td>\n",
       "      <td>55.00</td>\n",
       "    </tr>\n",
       "    <tr>\n",
       "      <th>752</th>\n",
       "      <td>18402</td>\n",
       "      <td>2</td>\n",
       "      <td>cake square</td>\n",
       "      <td>622.00</td>\n",
       "    </tr>\n",
       "  </tbody>\n",
       "</table>\n",
       "<p>753 rows × 4 columns</p>\n",
       "</div>"
      ],
      "text/plain": [
       "        id  amount                                        unit   grams\n",
       "0    18011       1                                          oz   28.35\n",
       "1    18012       1                                          oz   28.35\n",
       "2    18012       2                             biscuit (2 dia)   23.00\n",
       "3    18013       1                                          oz   28.35\n",
       "4    18013       2                         biscuit (2-1/4 dia)   21.00\n",
       "..     ...     ...                                         ...     ...\n",
       "748  18400       1                               waffles round   70.00\n",
       "749  18401       1          serving (approximate serving size)   55.00\n",
       "750  18401       2  cake square (average weight of whole item)  399.00\n",
       "751  18402       1                                     serving   55.00\n",
       "752  18402       2                                 cake square  622.00\n",
       "\n",
       "[753 rows x 4 columns]"
      ]
     },
     "execution_count": 27,
     "metadata": {},
     "output_type": "execute_result"
    }
   ],
   "source": [
    "# We parse the portions column and create a separate DataFrame for it, since it contains nested data\n",
    "# We also store the id of the associated row, so as not to lose the information to which the portions were related to\n",
    "portions_list = []\n",
    "portions_row = []\n",
    "data_id = data.index[0]\n",
    "\n",
    "# Loop through the portions column and create one portions_row for each list in each row of data\n",
    "for array in data[\"portions\"].values:\n",
    "    for list_of_portions in array:\n",
    "        portions_row = []\n",
    "        portions_row.append(data_id)\n",
    "        for key in list_of_portions:\n",
    "            portions_row.append(list_of_portions[key])\n",
    "\n",
    "        portions_list.append(portions_row)\n",
    "\n",
    "    data_id = data_id + 1\n",
    "\n",
    "# Create the DataFrame from the list\n",
    "portions = pd.DataFrame(\n",
    "    portions_list, columns=[\"id\", \"amount\", \"unit\", \"grams\"]\n",
    ")\n",
    "portions"
   ]
  },
  {
   "cell_type": "code",
   "execution_count": 28,
   "id": "d139aeb9-0b86-4706-9648-069a8990a835",
   "metadata": {},
   "outputs": [
    {
     "data": {
      "text/html": [
       "<div>\n",
       "<style scoped>\n",
       "    .dataframe tbody tr th:only-of-type {\n",
       "        vertical-align: middle;\n",
       "    }\n",
       "\n",
       "    .dataframe tbody tr th {\n",
       "        vertical-align: top;\n",
       "    }\n",
       "\n",
       "    .dataframe thead th {\n",
       "        text-align: right;\n",
       "    }\n",
       "</style>\n",
       "<table border=\"1\" class=\"dataframe\">\n",
       "  <thead>\n",
       "    <tr style=\"text-align: right;\">\n",
       "      <th></th>\n",
       "      <th>id</th>\n",
       "      <th>value</th>\n",
       "      <th>units</th>\n",
       "      <th>description</th>\n",
       "      <th>type</th>\n",
       "    </tr>\n",
       "  </thead>\n",
       "  <tbody>\n",
       "    <tr>\n",
       "      <th>0</th>\n",
       "      <td>18011</td>\n",
       "      <td>7.300</td>\n",
       "      <td>g</td>\n",
       "      <td>Protein</td>\n",
       "      <td>Composition</td>\n",
       "    </tr>\n",
       "    <tr>\n",
       "      <th>1</th>\n",
       "      <td>18011</td>\n",
       "      <td>12.100</td>\n",
       "      <td>g</td>\n",
       "      <td>Total lipid (fat)</td>\n",
       "      <td>Composition</td>\n",
       "    </tr>\n",
       "    <tr>\n",
       "      <th>2</th>\n",
       "      <td>18011</td>\n",
       "      <td>48.400</td>\n",
       "      <td>g</td>\n",
       "      <td>Carbohydrate, by difference</td>\n",
       "      <td>Composition</td>\n",
       "    </tr>\n",
       "    <tr>\n",
       "      <th>3</th>\n",
       "      <td>18011</td>\n",
       "      <td>3.300</td>\n",
       "      <td>g</td>\n",
       "      <td>Ash</td>\n",
       "      <td>Other</td>\n",
       "    </tr>\n",
       "    <tr>\n",
       "      <th>4</th>\n",
       "      <td>18011</td>\n",
       "      <td>335.000</td>\n",
       "      <td>kcal</td>\n",
       "      <td>Energy</td>\n",
       "      <td>Energy</td>\n",
       "    </tr>\n",
       "    <tr>\n",
       "      <th>...</th>\n",
       "      <td>...</td>\n",
       "      <td>...</td>\n",
       "      <td>...</td>\n",
       "      <td>...</td>\n",
       "      <td>...</td>\n",
       "    </tr>\n",
       "    <tr>\n",
       "      <th>21545</th>\n",
       "      <td>18402</td>\n",
       "      <td>4.411</td>\n",
       "      <td>g</td>\n",
       "      <td>Fatty acids, total monounsaturated</td>\n",
       "      <td>Other</td>\n",
       "    </tr>\n",
       "    <tr>\n",
       "      <th>21546</th>\n",
       "      <td>18402</td>\n",
       "      <td>9.424</td>\n",
       "      <td>g</td>\n",
       "      <td>Fatty acids, total polyunsaturated</td>\n",
       "      <td>Other</td>\n",
       "    </tr>\n",
       "    <tr>\n",
       "      <th>21547</th>\n",
       "      <td>18402</td>\n",
       "      <td>0.082</td>\n",
       "      <td>g</td>\n",
       "      <td>Fatty acids, total trans-monoenoic</td>\n",
       "      <td>Other</td>\n",
       "    </tr>\n",
       "    <tr>\n",
       "      <th>21548</th>\n",
       "      <td>18402</td>\n",
       "      <td>0.078</td>\n",
       "      <td>g</td>\n",
       "      <td>Fatty acids, total trans-polyenoic</td>\n",
       "      <td>Other</td>\n",
       "    </tr>\n",
       "    <tr>\n",
       "      <th>21549</th>\n",
       "      <td>18402</td>\n",
       "      <td>0.000</td>\n",
       "      <td>g</td>\n",
       "      <td>Hydroxyproline</td>\n",
       "      <td>Amino Acids</td>\n",
       "    </tr>\n",
       "  </tbody>\n",
       "</table>\n",
       "<p>21550 rows × 5 columns</p>\n",
       "</div>"
      ],
      "text/plain": [
       "          id    value units                         description         type\n",
       "0      18011    7.300     g                             Protein  Composition\n",
       "1      18011   12.100     g                   Total lipid (fat)  Composition\n",
       "2      18011   48.400     g         Carbohydrate, by difference  Composition\n",
       "3      18011    3.300     g                                 Ash        Other\n",
       "4      18011  335.000  kcal                              Energy       Energy\n",
       "...      ...      ...   ...                                 ...          ...\n",
       "21545  18402    4.411     g  Fatty acids, total monounsaturated        Other\n",
       "21546  18402    9.424     g  Fatty acids, total polyunsaturated        Other\n",
       "21547  18402    0.082     g  Fatty acids, total trans-monoenoic        Other\n",
       "21548  18402    0.078     g  Fatty acids, total trans-polyenoic        Other\n",
       "21549  18402    0.000     g                      Hydroxyproline  Amino Acids\n",
       "\n",
       "[21550 rows x 5 columns]"
      ]
     },
     "execution_count": 28,
     "metadata": {},
     "output_type": "execute_result"
    }
   ],
   "source": [
    "# We also parse the nutrients column in the same way we did the portions column\n",
    "nutrients_list = []\n",
    "nutrients_row = []\n",
    "data_id = data.index[0]\n",
    "\n",
    "for array in data[\"nutrients\"].values:\n",
    "    for list_of_portions in array:\n",
    "        nutrients_row = []\n",
    "        nutrients_row.append(data_id)\n",
    "        for key in list_of_portions:\n",
    "            nutrients_row.append(list_of_portions[key])\n",
    "\n",
    "        nutrients_list.append(nutrients_row)\n",
    "\n",
    "    data_id = data_id + 1\n",
    "\n",
    "nutrients = pd.DataFrame(\n",
    "    nutrients_list, columns=[\"id\", \"value\", \"units\", \"description\", \"type\"]\n",
    ")\n",
    "nutrients"
   ]
  },
  {
   "cell_type": "code",
   "execution_count": 29,
   "id": "19323ac2-7a38-4ab0-91c7-fd2c9454ef35",
   "metadata": {},
   "outputs": [
    {
     "data": {
      "text/html": [
       "<div>\n",
       "<style scoped>\n",
       "    .dataframe tbody tr th:only-of-type {\n",
       "        vertical-align: middle;\n",
       "    }\n",
       "\n",
       "    .dataframe tbody tr th {\n",
       "        vertical-align: top;\n",
       "    }\n",
       "\n",
       "    .dataframe thead th {\n",
       "        text-align: right;\n",
       "    }\n",
       "</style>\n",
       "<table border=\"1\" class=\"dataframe\">\n",
       "  <thead>\n",
       "    <tr style=\"text-align: right;\">\n",
       "      <th></th>\n",
       "      <th>description</th>\n",
       "      <th>manufacturer</th>\n",
       "      <th>type</th>\n",
       "    </tr>\n",
       "    <tr>\n",
       "      <th>id</th>\n",
       "      <th></th>\n",
       "      <th></th>\n",
       "      <th></th>\n",
       "    </tr>\n",
       "  </thead>\n",
       "  <tbody>\n",
       "    <tr>\n",
       "      <th>18011</th>\n",
       "      <td>Biscuits, plain or buttermilk, dry mix, prepared</td>\n",
       "      <td>None</td>\n",
       "      <td>Biscuits</td>\n",
       "    </tr>\n",
       "    <tr>\n",
       "      <th>18012</th>\n",
       "      <td>Biscuits, plain or buttermilk, refrigerated do...</td>\n",
       "      <td>None</td>\n",
       "      <td>Biscuits</td>\n",
       "    </tr>\n",
       "    <tr>\n",
       "      <th>18013</th>\n",
       "      <td>Biscuits, plain or buttermilk, refrigerated do...</td>\n",
       "      <td>None</td>\n",
       "      <td>Biscuits</td>\n",
       "    </tr>\n",
       "    <tr>\n",
       "      <th>18014</th>\n",
       "      <td>Biscuits, plain or buttermilk, refrigerated do...</td>\n",
       "      <td>None</td>\n",
       "      <td>Biscuits</td>\n",
       "    </tr>\n",
       "    <tr>\n",
       "      <th>18015</th>\n",
       "      <td>Biscuits, plain or buttermilk, refrigerated do...</td>\n",
       "      <td>None</td>\n",
       "      <td>Biscuits</td>\n",
       "    </tr>\n",
       "  </tbody>\n",
       "</table>\n",
       "</div>"
      ],
      "text/plain": [
       "                                             description manufacturer  \\\n",
       "id                                                                      \n",
       "18011   Biscuits, plain or buttermilk, dry mix, prepared         None   \n",
       "18012  Biscuits, plain or buttermilk, refrigerated do...         None   \n",
       "18013  Biscuits, plain or buttermilk, refrigerated do...         None   \n",
       "18014  Biscuits, plain or buttermilk, refrigerated do...         None   \n",
       "18015  Biscuits, plain or buttermilk, refrigerated do...         None   \n",
       "\n",
       "           type  \n",
       "id               \n",
       "18011  Biscuits  \n",
       "18012  Biscuits  \n",
       "18013  Biscuits  \n",
       "18014  Biscuits  \n",
       "18015  Biscuits  "
      ]
     },
     "execution_count": 29,
     "metadata": {},
     "output_type": "execute_result"
    }
   ],
   "source": [
    "# Drop the portions and nutrients columns from data, as now there are separate DataFrames for them\n",
    "data = data.drop(\"portions\", axis=1)\n",
    "data = data.drop(\"nutrients\", axis=1)\n",
    "data.head()"
   ]
  },
  {
   "cell_type": "code",
   "execution_count": 30,
   "id": "1336ca3d",
   "metadata": {},
   "outputs": [
    {
     "data": {
      "text/html": [
       "<div>\n",
       "<style scoped>\n",
       "    .dataframe tbody tr th:only-of-type {\n",
       "        vertical-align: middle;\n",
       "    }\n",
       "\n",
       "    .dataframe tbody tr th {\n",
       "        vertical-align: top;\n",
       "    }\n",
       "\n",
       "    .dataframe thead th {\n",
       "        text-align: right;\n",
       "    }\n",
       "</style>\n",
       "<table border=\"1\" class=\"dataframe\">\n",
       "  <thead>\n",
       "    <tr style=\"text-align: right;\">\n",
       "      <th></th>\n",
       "      <th>description</th>\n",
       "      <th>manufacturer</th>\n",
       "      <th>type</th>\n",
       "    </tr>\n",
       "    <tr>\n",
       "      <th>id</th>\n",
       "      <th></th>\n",
       "      <th></th>\n",
       "      <th></th>\n",
       "    </tr>\n",
       "  </thead>\n",
       "  <tbody>\n",
       "    <tr>\n",
       "      <th>18133</th>\n",
       "      <td>Cake, sponge, commercially prepared</td>\n",
       "      <td>None</td>\n",
       "      <td>Cake</td>\n",
       "    </tr>\n",
       "    <tr>\n",
       "      <th>18258</th>\n",
       "      <td>English muffins, plain, enriched, with ca prop...</td>\n",
       "      <td>None</td>\n",
       "      <td>Savory Bread</td>\n",
       "    </tr>\n",
       "    <tr>\n",
       "      <th>18563</th>\n",
       "      <td>ARCHWAY Home Style Cookies, Gourmet Rocky Road</td>\n",
       "      <td>Archway Cookies</td>\n",
       "      <td>Cookies</td>\n",
       "    </tr>\n",
       "    <tr>\n",
       "      <th>18188</th>\n",
       "      <td>Cookies, peanut butter, refrigerated dough, baked</td>\n",
       "      <td>None</td>\n",
       "      <td>Cookies</td>\n",
       "    </tr>\n",
       "    <tr>\n",
       "      <th>18938</th>\n",
       "      <td>Toaster Pastries, fruit, frosted (include appl...</td>\n",
       "      <td>None</td>\n",
       "      <td>Toaster Pastries</td>\n",
       "    </tr>\n",
       "    <tr>\n",
       "      <th>18363</th>\n",
       "      <td>Tortillas, ready-to-bake or -fry, corn</td>\n",
       "      <td>None</td>\n",
       "      <td>Savory Bread</td>\n",
       "    </tr>\n",
       "    <tr>\n",
       "      <th>18127</th>\n",
       "      <td>Cake, snack cakes, creme-filled, chocolate wit...</td>\n",
       "      <td>None</td>\n",
       "      <td>Cake</td>\n",
       "    </tr>\n",
       "    <tr>\n",
       "      <th>18148</th>\n",
       "      <td>Cheesecake prepared from mix, no-bake type</td>\n",
       "      <td>None</td>\n",
       "      <td>Cake</td>\n",
       "    </tr>\n",
       "    <tr>\n",
       "      <th>18131</th>\n",
       "      <td>Cake, white, dry mix, special dietary (include...</td>\n",
       "      <td>None</td>\n",
       "      <td>Cake</td>\n",
       "    </tr>\n",
       "    <tr>\n",
       "      <th>18533</th>\n",
       "      <td>ARCHWAY Home Style Cookies, Iced Oatmeal</td>\n",
       "      <td>Archway Cookies</td>\n",
       "      <td>Cookies</td>\n",
       "    </tr>\n",
       "    <tr>\n",
       "      <th>18438</th>\n",
       "      <td>English muffins, plain, unenriched, with calci...</td>\n",
       "      <td>None</td>\n",
       "      <td>Muffins</td>\n",
       "    </tr>\n",
       "    <tr>\n",
       "      <th>18497</th>\n",
       "      <td>KELLOGG, KELLOGG'S LOW FAT POP TARTS, Frosted ...</td>\n",
       "      <td>Kellogg, Co.</td>\n",
       "      <td>Toaster Pastries</td>\n",
       "    </tr>\n",
       "    <tr>\n",
       "      <th>18451</th>\n",
       "      <td>Cake, pound, commercially prepared, fat-free</td>\n",
       "      <td>None</td>\n",
       "      <td>Cake</td>\n",
       "    </tr>\n",
       "    <tr>\n",
       "      <th>18338</th>\n",
       "      <td>Phyllo dough</td>\n",
       "      <td>None</td>\n",
       "      <td>Cake</td>\n",
       "    </tr>\n",
       "    <tr>\n",
       "      <th>18634</th>\n",
       "      <td>PILLSBURY Golden Layer Buttermilk Biscuits, Ar...</td>\n",
       "      <td>Pillsbury Co.</td>\n",
       "      <td>Biscuits</td>\n",
       "    </tr>\n",
       "    <tr>\n",
       "      <th>18015</th>\n",
       "      <td>Biscuits, plain or buttermilk, refrigerated do...</td>\n",
       "      <td>None</td>\n",
       "      <td>Biscuits</td>\n",
       "    </tr>\n",
       "    <tr>\n",
       "      <th>18945</th>\n",
       "      <td>Pie crust, deep dish, frozen, unbaked, made wi...</td>\n",
       "      <td>None</td>\n",
       "      <td>Cake</td>\n",
       "    </tr>\n",
       "    <tr>\n",
       "      <th>18522</th>\n",
       "      <td>ARCHWAY Home Style Cookies, Chocolate Chip Ice...</td>\n",
       "      <td>Archway Cookies</td>\n",
       "      <td>Cookies</td>\n",
       "    </tr>\n",
       "    <tr>\n",
       "      <th>18017</th>\n",
       "      <td>Biscuits, mixed grain, refrigerated dough</td>\n",
       "      <td>None</td>\n",
       "      <td>Biscuits</td>\n",
       "    </tr>\n",
       "    <tr>\n",
       "      <th>18260</th>\n",
       "      <td>English muffins, mixed-grain (includes granola)</td>\n",
       "      <td>None</td>\n",
       "      <td>Savory Bread</td>\n",
       "    </tr>\n",
       "  </tbody>\n",
       "</table>\n",
       "</div>"
      ],
      "text/plain": [
       "                                             description     manufacturer  \\\n",
       "id                                                                          \n",
       "18133                Cake, sponge, commercially prepared             None   \n",
       "18258  English muffins, plain, enriched, with ca prop...             None   \n",
       "18563     ARCHWAY Home Style Cookies, Gourmet Rocky Road  Archway Cookies   \n",
       "18188  Cookies, peanut butter, refrigerated dough, baked             None   \n",
       "18938  Toaster Pastries, fruit, frosted (include appl...             None   \n",
       "18363             Tortillas, ready-to-bake or -fry, corn             None   \n",
       "18127  Cake, snack cakes, creme-filled, chocolate wit...             None   \n",
       "18148         Cheesecake prepared from mix, no-bake type             None   \n",
       "18131  Cake, white, dry mix, special dietary (include...             None   \n",
       "18533           ARCHWAY Home Style Cookies, Iced Oatmeal  Archway Cookies   \n",
       "18438  English muffins, plain, unenriched, with calci...             None   \n",
       "18497  KELLOGG, KELLOGG'S LOW FAT POP TARTS, Frosted ...     Kellogg, Co.   \n",
       "18451       Cake, pound, commercially prepared, fat-free             None   \n",
       "18338                                       Phyllo dough             None   \n",
       "18634  PILLSBURY Golden Layer Buttermilk Biscuits, Ar...    Pillsbury Co.   \n",
       "18015  Biscuits, plain or buttermilk, refrigerated do...             None   \n",
       "18945  Pie crust, deep dish, frozen, unbaked, made wi...             None   \n",
       "18522  ARCHWAY Home Style Cookies, Chocolate Chip Ice...  Archway Cookies   \n",
       "18017          Biscuits, mixed grain, refrigerated dough             None   \n",
       "18260    English muffins, mixed-grain (includes granola)             None   \n",
       "\n",
       "                   type  \n",
       "id                       \n",
       "18133              Cake  \n",
       "18258      Savory Bread  \n",
       "18563           Cookies  \n",
       "18188           Cookies  \n",
       "18938  Toaster Pastries  \n",
       "18363      Savory Bread  \n",
       "18127              Cake  \n",
       "18148              Cake  \n",
       "18131              Cake  \n",
       "18533           Cookies  \n",
       "18438           Muffins  \n",
       "18497  Toaster Pastries  \n",
       "18451              Cake  \n",
       "18338              Cake  \n",
       "18634          Biscuits  \n",
       "18015          Biscuits  \n",
       "18945              Cake  \n",
       "18522           Cookies  \n",
       "18017          Biscuits  \n",
       "18260      Savory Bread  "
      ]
     },
     "execution_count": 30,
     "metadata": {},
     "output_type": "execute_result"
    }
   ],
   "source": [
    "data.sample(20, random_state=1)"
   ]
  },
  {
   "cell_type": "markdown",
   "id": "69470b38",
   "metadata": {},
   "source": [
    "### 1 b)"
   ]
  },
  {
   "cell_type": "code",
   "execution_count": 31,
   "id": "3a617801",
   "metadata": {},
   "outputs": [
    {
     "data": {
      "text/plain": [
       "Cake                109\n",
       "Cookies              89\n",
       "Sweet Bread          75\n",
       "Savory Bread         42\n",
       "Biscuits             25\n",
       "Toaster Pastries     25\n",
       "Muffins              18\n",
       "Puff Pastry           5\n",
       "Cream Puff            3\n",
       "Muesli                1\n",
       "Name: type, dtype: int64"
      ]
     },
     "execution_count": 31,
     "metadata": {},
     "output_type": "execute_result"
    }
   ],
   "source": [
    "# General distribution of types of desserts\n",
    "data.type.value_counts()"
   ]
  },
  {
   "cell_type": "code",
   "execution_count": 32,
   "id": "eca41dbd-765f-4dfc-9d57-8fd1346a537f",
   "metadata": {},
   "outputs": [
    {
     "data": {
      "image/png": "[encoded data removed]",
      "text/plain": [
       "<Figure size 640x480 with 1 Axes>"
      ]
     },
     "metadata": {},
     "output_type": "display_data"
    },
    {
     "data": {
      "image/png": "[encoded data removed]",
      "text/plain": [
       "<Figure size 640x480 with 1 Axes>"
      ]
     },
     "metadata": {},
     "output_type": "display_data"
    },
    {
     "data": {
      "image/png": "[encoded data removed]",
      "text/plain": [
       "<Figure size 640x480 with 1 Axes>"
      ]
     },
     "metadata": {},
     "output_type": "display_data"
    },
    {
     "data": {
      "image/png": "[encoded data removed]",
      "text/plain": [
       "<Figure size 640x480 with 1 Axes>"
      ]
     },
     "metadata": {},
     "output_type": "display_data"
    },
    {
     "data": {
      "image/png": "[encoded data removed]",
      "text/plain": [
       "<Figure size 640x480 with 1 Axes>"
      ]
     },
     "metadata": {},
     "output_type": "display_data"
    },
    {
     "data": {
      "image/png": "[encoded data removed]",
      "text/plain": [
       "<Figure size 640x480 with 1 Axes>"
      ]
     },
     "metadata": {},
     "output_type": "display_data"
    },
    {
     "data": {
      "image/png": "[encoded data removed]",
      "text/plain": [
       "<Figure size 640x480 with 1 Axes>"
      ]
     },
     "metadata": {},
     "output_type": "display_data"
    },
    {
     "data": {
      "image/png": "[encoded data removed]",
      "text/plain": [
       "<Figure size 640x480 with 1 Axes>"
      ]
     },
     "metadata": {},
     "output_type": "display_data"
    },
    {
     "data": {
      "image/png": "[encoded data removed]",
      "text/plain": [
       "<Figure size 640x480 with 1 Axes>"
      ]
     },
     "metadata": {},
     "output_type": "display_data"
    },
    {
     "data": {
      "image/png": "[encoded data removed]",
      "text/plain": [
       "<Figure size 640x480 with 1 Axes>"
      ]
     },
     "metadata": {},
     "output_type": "display_data"
    }
   ],
   "source": [
    "# Plotting how many desserts of each type are produced by each manufacturer, excluding the data where the manufacturer is not known (=None))\n",
    "# If some/all manufacturers are missing in a plot of one dessert, it means that those manufacturers do not make that product (thus some plots may be empty)\n",
    "for type_of_dessert in data.type.unique():\n",
    "    dessert_distribution = data[\n",
    "        data[\"type\"] == type_of_dessert\n",
    "    ].manufacturer.value_counts()\n",
    "\n",
    "    plt.bar(dessert_distribution.index, dessert_distribution.values)\n",
    "    plt.xlabel(\"Manufacturer\")\n",
    "    plt.ylabel(\"Number of desserts of type \" + type_of_dessert)\n",
    "    plt.xticks(rotation=90)\n",
    "    plt.show()"
   ]
  },
  {
   "cell_type": "markdown",
   "id": "4dd93b60",
   "metadata": {},
   "source": [
    "### 1 c)"
   ]
  },
  {
   "cell_type": "code",
   "execution_count": 33,
   "id": "91ec0bab-3652-4263-b5d6-57610813d054",
   "metadata": {},
   "outputs": [
    {
     "data": {
      "text/html": [
       "<div>\n",
       "<style scoped>\n",
       "    .dataframe tbody tr th:only-of-type {\n",
       "        vertical-align: middle;\n",
       "    }\n",
       "\n",
       "    .dataframe tbody tr th {\n",
       "        vertical-align: top;\n",
       "    }\n",
       "\n",
       "    .dataframe thead th {\n",
       "        text-align: right;\n",
       "    }\n",
       "</style>\n",
       "<table border=\"1\" class=\"dataframe\">\n",
       "  <thead>\n",
       "    <tr style=\"text-align: right;\">\n",
       "      <th></th>\n",
       "      <th>id</th>\n",
       "      <th>value</th>\n",
       "    </tr>\n",
       "  </thead>\n",
       "  <tbody>\n",
       "    <tr>\n",
       "      <th>count</th>\n",
       "      <td>21550.000000</td>\n",
       "      <td>21542.000000</td>\n",
       "    </tr>\n",
       "    <tr>\n",
       "      <th>mean</th>\n",
       "      <td>18182.851090</td>\n",
       "      <td>73.234701</td>\n",
       "    </tr>\n",
       "    <tr>\n",
       "      <th>std</th>\n",
       "      <td>106.546397</td>\n",
       "      <td>919.628462</td>\n",
       "    </tr>\n",
       "    <tr>\n",
       "      <th>min</th>\n",
       "      <td>18011.000000</td>\n",
       "      <td>-88.000000</td>\n",
       "    </tr>\n",
       "    <tr>\n",
       "      <th>25%</th>\n",
       "      <td>18092.000000</td>\n",
       "      <td>0.167000</td>\n",
       "    </tr>\n",
       "    <tr>\n",
       "      <th>50%</th>\n",
       "      <td>18177.000000</td>\n",
       "      <td>0.800000</td>\n",
       "    </tr>\n",
       "    <tr>\n",
       "      <th>75%</th>\n",
       "      <td>18262.000000</td>\n",
       "      <td>15.000000</td>\n",
       "    </tr>\n",
       "    <tr>\n",
       "      <th>max</th>\n",
       "      <td>18402.000000</td>\n",
       "      <td>124300.000000</td>\n",
       "    </tr>\n",
       "  </tbody>\n",
       "</table>\n",
       "</div>"
      ],
      "text/plain": [
       "                 id          value\n",
       "count  21550.000000   21542.000000\n",
       "mean   18182.851090      73.234701\n",
       "std      106.546397     919.628462\n",
       "min    18011.000000     -88.000000\n",
       "25%    18092.000000       0.167000\n",
       "50%    18177.000000       0.800000\n",
       "75%    18262.000000      15.000000\n",
       "max    18402.000000  124300.000000"
      ]
     },
     "execution_count": 33,
     "metadata": {},
     "output_type": "execute_result"
    }
   ],
   "source": [
    "nutrients.describe()"
   ]
  },
  {
   "cell_type": "code",
   "execution_count": 34,
   "id": "6fb6ed14-7775-4b7a-b2ba-eb1b379dc2a2",
   "metadata": {},
   "outputs": [
    {
     "data": {
      "text/html": [
       "<div>\n",
       "<style scoped>\n",
       "    .dataframe tbody tr th:only-of-type {\n",
       "        vertical-align: middle;\n",
       "    }\n",
       "\n",
       "    .dataframe tbody tr th {\n",
       "        vertical-align: top;\n",
       "    }\n",
       "\n",
       "    .dataframe thead th {\n",
       "        text-align: right;\n",
       "    }\n",
       "</style>\n",
       "<table border=\"1\" class=\"dataframe\">\n",
       "  <thead>\n",
       "    <tr style=\"text-align: right;\">\n",
       "      <th></th>\n",
       "      <th>id</th>\n",
       "      <th>value</th>\n",
       "      <th>units</th>\n",
       "      <th>description</th>\n",
       "      <th>type</th>\n",
       "    </tr>\n",
       "  </thead>\n",
       "  <tbody>\n",
       "    <tr>\n",
       "      <th>18</th>\n",
       "      <td>18011</td>\n",
       "      <td>999.00</td>\n",
       "      <td>IU</td>\n",
       "      <td>Vitamin A, IU</td>\n",
       "      <td>Vitamins</td>\n",
       "    </tr>\n",
       "    <tr>\n",
       "      <th>19</th>\n",
       "      <td>18011</td>\n",
       "      <td>25.00</td>\n",
       "      <td>mcg</td>\n",
       "      <td>Retinol</td>\n",
       "      <td>Vitamins</td>\n",
       "    </tr>\n",
       "    <tr>\n",
       "      <th>20</th>\n",
       "      <td>18011</td>\n",
       "      <td>26.00</td>\n",
       "      <td>mcg_RAE</td>\n",
       "      <td>Vitamin A, RAE</td>\n",
       "      <td>Vitamins</td>\n",
       "    </tr>\n",
       "    <tr>\n",
       "      <th>21</th>\n",
       "      <td>18011</td>\n",
       "      <td>0.40</td>\n",
       "      <td>mg</td>\n",
       "      <td>Vitamin C, total ascorbic acid</td>\n",
       "      <td>Vitamins</td>\n",
       "    </tr>\n",
       "    <tr>\n",
       "      <th>22</th>\n",
       "      <td>18011</td>\n",
       "      <td>0.35</td>\n",
       "      <td>mg</td>\n",
       "      <td>Thiamin</td>\n",
       "      <td>Vitamins</td>\n",
       "    </tr>\n",
       "    <tr>\n",
       "      <th>...</th>\n",
       "      <td>...</td>\n",
       "      <td>...</td>\n",
       "      <td>...</td>\n",
       "      <td>...</td>\n",
       "      <td>...</td>\n",
       "    </tr>\n",
       "    <tr>\n",
       "      <th>21538</th>\n",
       "      <td>18402</td>\n",
       "      <td>0.07</td>\n",
       "      <td>mg</td>\n",
       "      <td>Thiamin</td>\n",
       "      <td>Vitamins</td>\n",
       "    </tr>\n",
       "    <tr>\n",
       "      <th>21539</th>\n",
       "      <td>18402</td>\n",
       "      <td>0.18</td>\n",
       "      <td>mg</td>\n",
       "      <td>Riboflavin</td>\n",
       "      <td>Vitamins</td>\n",
       "    </tr>\n",
       "    <tr>\n",
       "      <th>21540</th>\n",
       "      <td>18402</td>\n",
       "      <td>4.70</td>\n",
       "      <td>mg</td>\n",
       "      <td>Niacin</td>\n",
       "      <td>Vitamins</td>\n",
       "    </tr>\n",
       "    <tr>\n",
       "      <th>21541</th>\n",
       "      <td>18402</td>\n",
       "      <td>0.55</td>\n",
       "      <td>mg</td>\n",
       "      <td>Pantothenic acid</td>\n",
       "      <td>Vitamins</td>\n",
       "    </tr>\n",
       "    <tr>\n",
       "      <th>21542</th>\n",
       "      <td>18402</td>\n",
       "      <td>0.05</td>\n",
       "      <td>mg</td>\n",
       "      <td>Vitamin B-6</td>\n",
       "      <td>Vitamins</td>\n",
       "    </tr>\n",
       "  </tbody>\n",
       "</table>\n",
       "<p>7044 rows × 5 columns</p>\n",
       "</div>"
      ],
      "text/plain": [
       "          id   value    units                     description      type\n",
       "18     18011  999.00       IU                   Vitamin A, IU  Vitamins\n",
       "19     18011   25.00      mcg                         Retinol  Vitamins\n",
       "20     18011   26.00  mcg_RAE                  Vitamin A, RAE  Vitamins\n",
       "21     18011    0.40       mg  Vitamin C, total ascorbic acid  Vitamins\n",
       "22     18011    0.35       mg                         Thiamin  Vitamins\n",
       "...      ...     ...      ...                             ...       ...\n",
       "21538  18402    0.07       mg                         Thiamin  Vitamins\n",
       "21539  18402    0.18       mg                      Riboflavin  Vitamins\n",
       "21540  18402    4.70       mg                          Niacin  Vitamins\n",
       "21541  18402    0.55       mg                Pantothenic acid  Vitamins\n",
       "21542  18402    0.05       mg                     Vitamin B-6  Vitamins\n",
       "\n",
       "[7044 rows x 5 columns]"
      ]
     },
     "execution_count": 34,
     "metadata": {},
     "output_type": "execute_result"
    }
   ],
   "source": [
    "# extract just the vitamins from the nutrients\n",
    "vitamins = nutrients[nutrients[\"type\"] == \"Vitamins\"]\n",
    "vitamins"
   ]
  },
  {
   "cell_type": "code",
   "execution_count": 35,
   "id": "79133e02-4c6e-499d-872d-1bec6b487964",
   "metadata": {},
   "outputs": [
    {
     "data": {
      "text/plain": [
       "mcg        3082\n",
       "mg         2800\n",
       "IU          538\n",
       "mcg_RAE     316\n",
       "mcg_DFE     308\n",
       "Name: units, dtype: int64"
      ]
     },
     "execution_count": 35,
     "metadata": {},
     "output_type": "execute_result"
    }
   ],
   "source": [
    "vitamins.units.value_counts()"
   ]
  },
  {
   "cell_type": "code",
   "execution_count": 36,
   "id": "e075efb8-32f2-4477-8ac0-6b46d2921cb7",
   "metadata": {},
   "outputs": [
    {
     "data": {
      "text/plain": [
       "mg         5882\n",
       "IU          538\n",
       "mcg_RAE     316\n",
       "mcg_DFE     308\n",
       "Name: units, dtype: int64"
      ]
     },
     "execution_count": 36,
     "metadata": {},
     "output_type": "execute_result"
    }
   ],
   "source": [
    "# convert mcg to mg\n",
    "vitamins.loc[vitamins.units == \"mcg\", \"value\"] = vitamins.value * 0.001\n",
    "vitamins.loc[vitamins.units == \"mcg\", \"units\"] = \"mg\"\n",
    "vitamins.units.value_counts()"
   ]
  },
  {
   "cell_type": "code",
   "execution_count": 37,
   "id": "3673f20b-db67-41f3-b3c6-2c304ff8e7bb",
   "metadata": {},
   "outputs": [
    {
     "data": {
      "text/plain": [
       "7044"
      ]
     },
     "metadata": {},
     "output_type": "display_data"
    },
    {
     "data": {
      "text/plain": [
       "5882"
      ]
     },
     "metadata": {},
     "output_type": "display_data"
    },
    {
     "data": {
      "text/plain": [
       "1162"
      ]
     },
     "metadata": {},
     "output_type": "display_data"
    },
    {
     "data": {
      "text/plain": [
       "83.50369108461102"
      ]
     },
     "metadata": {},
     "output_type": "display_data"
    }
   ],
   "source": [
    "total_units = len(vitamins)\n",
    "mg_units = (vitamins[\"units\"] == \"mg\").sum()\n",
    "non_mg_units = (vitamins[\"units\"] != \"mg\").sum()\n",
    "display(total_units)\n",
    "display(mg_units)\n",
    "display(non_mg_units)\n",
    "\n",
    "display(mg_units * 100 / total_units)"
   ]
  },
  {
   "cell_type": "markdown",
   "id": "3645acfd-e6d9-487e-8800-747cabb948b8",
   "metadata": {},
   "source": [
    "Since the conversions from IU, mcg_RAE and mcg_DFE to mg are complicated, and the majority of the data is provided in mg (83%) we just consider mg and drop the other units."
   ]
  },
  {
   "cell_type": "code",
   "execution_count": 38,
   "id": "7b162063-5400-4fb4-a935-d20e326d9d07",
   "metadata": {},
   "outputs": [
    {
     "data": {
      "text/html": [
       "<div>\n",
       "<style scoped>\n",
       "    .dataframe tbody tr th:only-of-type {\n",
       "        vertical-align: middle;\n",
       "    }\n",
       "\n",
       "    .dataframe tbody tr th {\n",
       "        vertical-align: top;\n",
       "    }\n",
       "\n",
       "    .dataframe thead th {\n",
       "        text-align: right;\n",
       "    }\n",
       "</style>\n",
       "<table border=\"1\" class=\"dataframe\">\n",
       "  <thead>\n",
       "    <tr style=\"text-align: right;\">\n",
       "      <th></th>\n",
       "      <th>id</th>\n",
       "      <th>value</th>\n",
       "      <th>units</th>\n",
       "      <th>description</th>\n",
       "      <th>type</th>\n",
       "    </tr>\n",
       "  </thead>\n",
       "  <tbody>\n",
       "    <tr>\n",
       "      <th>19</th>\n",
       "      <td>18011</td>\n",
       "      <td>0.025</td>\n",
       "      <td>mg</td>\n",
       "      <td>Retinol</td>\n",
       "      <td>Vitamins</td>\n",
       "    </tr>\n",
       "    <tr>\n",
       "      <th>21</th>\n",
       "      <td>18011</td>\n",
       "      <td>0.400</td>\n",
       "      <td>mg</td>\n",
       "      <td>Vitamin C, total ascorbic acid</td>\n",
       "      <td>Vitamins</td>\n",
       "    </tr>\n",
       "    <tr>\n",
       "      <th>22</th>\n",
       "      <td>18011</td>\n",
       "      <td>0.350</td>\n",
       "      <td>mg</td>\n",
       "      <td>Thiamin</td>\n",
       "      <td>Vitamins</td>\n",
       "    </tr>\n",
       "    <tr>\n",
       "      <th>23</th>\n",
       "      <td>18011</td>\n",
       "      <td>0.357</td>\n",
       "      <td>mg</td>\n",
       "      <td>Riboflavin</td>\n",
       "      <td>Vitamins</td>\n",
       "    </tr>\n",
       "    <tr>\n",
       "      <th>24</th>\n",
       "      <td>18011</td>\n",
       "      <td>3.021</td>\n",
       "      <td>mg</td>\n",
       "      <td>Niacin</td>\n",
       "      <td>Vitamins</td>\n",
       "    </tr>\n",
       "    <tr>\n",
       "      <th>...</th>\n",
       "      <td>...</td>\n",
       "      <td>...</td>\n",
       "      <td>...</td>\n",
       "      <td>...</td>\n",
       "      <td>...</td>\n",
       "    </tr>\n",
       "    <tr>\n",
       "      <th>21538</th>\n",
       "      <td>18402</td>\n",
       "      <td>0.070</td>\n",
       "      <td>mg</td>\n",
       "      <td>Thiamin</td>\n",
       "      <td>Vitamins</td>\n",
       "    </tr>\n",
       "    <tr>\n",
       "      <th>21539</th>\n",
       "      <td>18402</td>\n",
       "      <td>0.180</td>\n",
       "      <td>mg</td>\n",
       "      <td>Riboflavin</td>\n",
       "      <td>Vitamins</td>\n",
       "    </tr>\n",
       "    <tr>\n",
       "      <th>21540</th>\n",
       "      <td>18402</td>\n",
       "      <td>4.700</td>\n",
       "      <td>mg</td>\n",
       "      <td>Niacin</td>\n",
       "      <td>Vitamins</td>\n",
       "    </tr>\n",
       "    <tr>\n",
       "      <th>21541</th>\n",
       "      <td>18402</td>\n",
       "      <td>0.550</td>\n",
       "      <td>mg</td>\n",
       "      <td>Pantothenic acid</td>\n",
       "      <td>Vitamins</td>\n",
       "    </tr>\n",
       "    <tr>\n",
       "      <th>21542</th>\n",
       "      <td>18402</td>\n",
       "      <td>0.050</td>\n",
       "      <td>mg</td>\n",
       "      <td>Vitamin B-6</td>\n",
       "      <td>Vitamins</td>\n",
       "    </tr>\n",
       "  </tbody>\n",
       "</table>\n",
       "<p>5882 rows × 5 columns</p>\n",
       "</div>"
      ],
      "text/plain": [
       "          id  value units                     description      type\n",
       "19     18011  0.025    mg                         Retinol  Vitamins\n",
       "21     18011  0.400    mg  Vitamin C, total ascorbic acid  Vitamins\n",
       "22     18011  0.350    mg                         Thiamin  Vitamins\n",
       "23     18011  0.357    mg                      Riboflavin  Vitamins\n",
       "24     18011  3.021    mg                          Niacin  Vitamins\n",
       "...      ...    ...   ...                             ...       ...\n",
       "21538  18402  0.070    mg                         Thiamin  Vitamins\n",
       "21539  18402  0.180    mg                      Riboflavin  Vitamins\n",
       "21540  18402  4.700    mg                          Niacin  Vitamins\n",
       "21541  18402  0.550    mg                Pantothenic acid  Vitamins\n",
       "21542  18402  0.050    mg                     Vitamin B-6  Vitamins\n",
       "\n",
       "[5882 rows x 5 columns]"
      ]
     },
     "execution_count": 38,
     "metadata": {},
     "output_type": "execute_result"
    }
   ],
   "source": [
    "vitamins = vitamins.loc[vitamins[\"units\"] == \"mg\"]\n",
    "vitamins"
   ]
  },
  {
   "cell_type": "code",
   "execution_count": 39,
   "id": "a37081d1-891b-46c7-bba7-15a5cef4c768",
   "metadata": {},
   "outputs": [
    {
     "name": "stdout",
     "output_type": "stream",
     "text": [
      "[[18011, 18012, 18013, 18014, 18015, 18016, 18017, 18365, 18367, 18403, 18505, 18506, 18507, 18512, 18609, 18612, 18615, 18629, 18633, 18634, 18932, 18933, 18934, 18935, 18951], [18019, 18021, 18027, 18028, 18029, 18030, 18032, 18035, 18036, 18037, 18038, 18039, 18040, 18041, 18042, 18043, 18045, 18047, 18048, 18049, 18050, 18051, 18055, 18057, 18059, 18061, 18064, 18065, 18068, 18071, 18073, 18075, 18077, 18078, 18079, 18081, 18082, 18084, 18085, 18240, 18250, 18253, 18254, 18256, 18268, 18269, 18270, 18271, 18272, 18339, 18344, 18345, 18346, 18347, 18349, 18350, 18351, 18352, 18353, 18355, 18357, 18358, 18361, 18362, 18383, 18384, 18385, 18412, 18413, 18414, 18432, 18436, 18447, 18631, 18635], [18022, 18023, 18024, 18033, 18066, 18217, 18218, 18219, 18221, 18222, 18223, 18224, 18225, 18227, 18229, 18230, 18231, 18232, 18233, 18234, 18236, 18241, 18258, 18259, 18260, 18261, 18262, 18263, 18264, 18265, 18266, 18267, 18360, 18363, 18376, 18396, 18400, 18426, 18428, 18434, 18457, 18953], [18076, 18086, 18087, 18088, 18090, 18092, 18095, 18096, 18097, 18099, 18101, 18102, 18103, 18104, 18105, 18106, 18107, 18108, 18110, 18112, 18114, 18116, 18117, 18119, 18120, 18121, 18126, 18127, 18128, 18131, 18133, 18134, 18135, 18137, 18139, 18140, 18141, 18142, 18144, 18146, 18147, 18148, 18288, 18289, 18290, 18291, 18292, 18293, 18294, 18295, 18297, 18299, 18302, 18304, 18306, 18309, 18312, 18321, 18322, 18323, 18324, 18325, 18326, 18327, 18328, 18332, 18333, 18334, 18335, 18336, 18338, 18354, 18369, 18370, 18371, 18372, 18373, 18374, 18390, 18398, 18399, 18401, 18402, 18417, 18418, 18419, 18420, 18444, 18445, 18451, 18452, 18453, 18459, 18499, 18614, 18632, 18642, 18651, 18930, 18931, 18936, 18942, 18943, 18944, 18945, 18946, 18947, 18948, 18954], [18152, 18154, 18155, 18156, 18157, 18158, 18160, 18161, 18163, 18164, 18165, 18166, 18167, 18168, 18169, 18171, 18172, 18174, 18179, 18180, 18182, 18183, 18184, 18185, 18186, 18187, 18188, 18189, 18190, 18191, 18192, 18193, 18196, 18197, 18198, 18199, 18200, 18201, 18202, 18203, 18204, 18206, 18208, 18209, 18210, 18213, 18377, 18378, 18421, 18423, 18456, 18513, 18514, 18516, 18517, 18520, 18521, 18522, 18524, 18525, 18526, 18527, 18528, 18529, 18531, 18532, 18533, 18535, 18537, 18538, 18539, 18540, 18541, 18543, 18544, 18545, 18546, 18547, 18548, 18549, 18553, 18555, 18560, 18562, 18563, 18564, 18565, 18619, 18630], [18211, 18245, 18337, 18433, 18435], [18237, 18238, 18640], [18273, 18275, 18277, 18278, 18280, 18281, 18282, 18284, 18286, 18386, 18388, 18437, 18438, 18439, 18566, 18610, 18639, 18940], [18475, 18476, 18477, 18478, 18479, 18480, 18481, 18482, 18483, 18484, 18486, 18487, 18488, 18489, 18490, 18494, 18495, 18496, 18497, 18500, 18508, 18509, 18510, 18938, 18939], [18501]]\n"
     ]
    }
   ],
   "source": [
    "# do a list with ids grouped by dessert types\n",
    "dessert_types = []\n",
    "ids = []\n",
    "for dessert_type in data.type.unique():\n",
    "    dessert_types.append(dessert_type)\n",
    "\n",
    "for dessert_type in data.type.unique():\n",
    "    id_types = []\n",
    "    for row in data.index:\n",
    "        if data.loc[data.index == row, \"type\"].values[0] == dessert_type:\n",
    "            id_types.append(row)\n",
    "\n",
    "    ids.append(id_types)\n",
    "\n",
    "print(ids)"
   ]
  },
  {
   "cell_type": "code",
   "execution_count": 40,
   "id": "501abe6b",
   "metadata": {
    "scrolled": true
   },
   "outputs": [
    {
     "name": "stdout",
     "output_type": "stream",
     "text": [
      "18012    23\n",
      "18013    23\n",
      "18015    22\n",
      "18014    20\n",
      "18011    11\n",
      "18017    11\n",
      "18016    10\n",
      "Name: id, dtype: int64\n"
     ]
    }
   ],
   "source": [
    "# vitamins for type bisquits\n",
    "index_list = ids[0]\n",
    "vitamins_bisq = vitamins.loc[vitamins[\"id\"].isin(index_list)]\n",
    "values2 = vitamins_bisq[\"id\"].value_counts()\n",
    "print(values2)"
   ]
  },
  {
   "cell_type": "code",
   "execution_count": 41,
   "id": "62a4aad5",
   "metadata": {},
   "outputs": [],
   "source": [
    "# calculate the median of vitamins for every dessert type\n",
    "medians = []\n",
    "for type in range(len(ids)):\n",
    "    index_list = ids[type]\n",
    "    vitamins_per_type = vitamins.loc[vitamins[\"id\"].isin(index_list)]\n",
    "    values = vitamins_per_type[\"id\"].value_counts()\n",
    "    medians.append(values.median())"
   ]
  },
  {
   "cell_type": "code",
   "execution_count": 42,
   "id": "a3285d47",
   "metadata": {},
   "outputs": [
    {
     "data": {
      "image/png": "[encoded data removed]",
      "text/plain": [
       "<Figure size 640x480 with 1 Axes>"
      ]
     },
     "metadata": {},
     "output_type": "display_data"
    }
   ],
   "source": [
    "# plot the medians, Toaster Pastries and Muesli does not have any specified vitamins\n",
    "plt.bar(data.type.unique(), medians)\n",
    "plt.xlabel(\"Dessert type\")\n",
    "plt.ylabel(\"Median of vitamins\")\n",
    "plt.title(\"The median of vitamins grouped by dessert types\")\n",
    "plt.xticks(rotation=90)\n",
    "plt.show()"
   ]
  },
  {
   "cell_type": "code",
   "execution_count": 43,
   "id": "a3663dd1",
   "metadata": {},
   "outputs": [
    {
     "data": {
      "text/html": [
       "<div>\n",
       "<style scoped>\n",
       "    .dataframe tbody tr th:only-of-type {\n",
       "        vertical-align: middle;\n",
       "    }\n",
       "\n",
       "    .dataframe tbody tr th {\n",
       "        vertical-align: top;\n",
       "    }\n",
       "\n",
       "    .dataframe thead th {\n",
       "        text-align: right;\n",
       "    }\n",
       "</style>\n",
       "<table border=\"1\" class=\"dataframe\">\n",
       "  <thead>\n",
       "    <tr style=\"text-align: right;\">\n",
       "      <th></th>\n",
       "      <th>id</th>\n",
       "      <th>value</th>\n",
       "      <th>units</th>\n",
       "      <th>description</th>\n",
       "      <th>type</th>\n",
       "    </tr>\n",
       "  </thead>\n",
       "  <tbody>\n",
       "    <tr>\n",
       "      <th>0</th>\n",
       "      <td>18011</td>\n",
       "      <td>-0.088</td>\n",
       "      <td>mg</td>\n",
       "      <td>Betaine</td>\n",
       "      <td>Vitamins</td>\n",
       "    </tr>\n",
       "    <tr>\n",
       "      <th>1</th>\n",
       "      <td>18402</td>\n",
       "      <td>226.700</td>\n",
       "      <td>mg</td>\n",
       "      <td>Vitamin K (phylloquinone)</td>\n",
       "      <td>Vitamins</td>\n",
       "    </tr>\n",
       "  </tbody>\n",
       "</table>\n",
       "</div>"
      ],
      "text/plain": [
       "      id    value units                description      type\n",
       "0  18011   -0.088    mg                    Betaine  Vitamins\n",
       "1  18402  226.700    mg  Vitamin K (phylloquinone)  Vitamins"
      ]
     },
     "execution_count": 43,
     "metadata": {},
     "output_type": "execute_result"
    }
   ],
   "source": [
    "pd.DataFrame([vitamins.min(), vitamins.max()])"
   ]
  },
  {
   "cell_type": "code",
   "execution_count": 44,
   "id": "66b6482e-19da-48f5-a75b-d67bf3014246",
   "metadata": {},
   "outputs": [
    {
     "data": {
      "text/plain": [
       "count    5877.000000\n",
       "mean        1.058705\n",
       "std         5.794729\n",
       "min        -0.088000\n",
       "25%         0.000000\n",
       "50%         0.035700\n",
       "75%         0.266000\n",
       "max       226.700000\n",
       "Name: value, dtype: float64"
      ]
     },
     "execution_count": 44,
     "metadata": {},
     "output_type": "execute_result"
    }
   ],
   "source": [
    "vitamins[\"value\"].describe()"
   ]
  },
  {
   "cell_type": "code",
   "execution_count": 45,
   "id": "8831a4c0-6a67-42f5-8e02-6d68989c3f1e",
   "metadata": {},
   "outputs": [
    {
     "data": {
      "text/plain": [
       "count    5876.000000\n",
       "mean        1.058900\n",
       "std         5.795203\n",
       "min         0.000000\n",
       "25%         0.000000\n",
       "50%         0.035850\n",
       "75%         0.266000\n",
       "max       226.700000\n",
       "Name: value, dtype: float64"
      ]
     },
     "execution_count": 45,
     "metadata": {},
     "output_type": "execute_result"
    }
   ],
   "source": [
    "vitamins[\"value\"][vitamins[\"value\"] >= 0].describe()"
   ]
  },
  {
   "cell_type": "code",
   "execution_count": 46,
   "id": "7096674d-1ad4-431e-a299-3f2798e48270",
   "metadata": {},
   "outputs": [
    {
     "data": {
      "text/plain": [
       "count    5876.000000\n",
       "mean        1.058900\n",
       "std         5.795203\n",
       "min         0.000000\n",
       "25%         0.000000\n",
       "50%         0.035850\n",
       "75%         0.266000\n",
       "max       226.700000\n",
       "Name: value, dtype: float64"
      ]
     },
     "execution_count": 46,
     "metadata": {},
     "output_type": "execute_result"
    }
   ],
   "source": [
    "# There is only one negative value, we can just remove it\n",
    "vitamins = vitamins.loc[vitamins[\"value\"] >= 0]\n",
    "vitamins[\"value\"].describe()"
   ]
  },
  {
   "cell_type": "code",
   "execution_count": 47,
   "id": "5533fd0a-c578-4617-aa94-0d209410aa93",
   "metadata": {},
   "outputs": [
    {
     "data": {
      "text/plain": [
       "0"
      ]
     },
     "metadata": {},
     "output_type": "display_data"
    }
   ],
   "source": [
    "# Check for null values in vitamins\n",
    "display(vitamins[\"value\"].isnull().sum())"
   ]
  },
  {
   "cell_type": "markdown",
   "id": "bb6f1953-88dc-4141-a3f1-2c7e74f8617c",
   "metadata": {},
   "source": [
    "## 1d)"
   ]
  },
  {
   "cell_type": "markdown",
   "id": "c4ea10bd-c2f0-4df5-a090-7b769edf8299",
   "metadata": {},
   "source": [
    "Test for normal distribution"
   ]
  },
  {
   "cell_type": "code",
   "execution_count": 48,
   "id": "920bc948-b6d5-4c02-aafc-311647be2452",
   "metadata": {},
   "outputs": [
    {
     "data": {
      "text/plain": [
       "Text(0.5, 1.0, 'Fit Values: 1.06 (mean) and 5.79 (std)')"
      ]
     },
     "execution_count": 48,
     "metadata": {},
     "output_type": "execute_result"
    },
    {
     "data": {
      "image/png": "[encoded data removed]",
      "text/plain": [
       "<Figure size 640x480 with 1 Axes>"
      ]
     },
     "metadata": {},
     "output_type": "display_data"
    }
   ],
   "source": [
    "mean, std = norm.fit(vitamins[\"value\"])\n",
    "plt.hist(vitamins[\"value\"], bins=50)\n",
    "title = \"Fit Values: {:.2f} (mean) and {:.2f} (std)\".format(mean, std)\n",
    "plt.xlabel(\"mgs of vitamins\")\n",
    "plt.ylabel(\"Frequency\")\n",
    "plt.title(title)"
   ]
  },
  {
   "cell_type": "code",
   "execution_count": 49,
   "id": "59287106-e913-423f-80af-bb6095ea4000",
   "metadata": {},
   "outputs": [
    {
     "data": {
      "text/plain": [
       "<AxesSubplot: >"
      ]
     },
     "execution_count": 49,
     "metadata": {},
     "output_type": "execute_result"
    },
    {
     "data": {
      "image/png": "[encoded data removed]",
      "text/plain": [
       "<Figure size 640x480 with 1 Axes>"
      ]
     },
     "metadata": {},
     "output_type": "display_data"
    }
   ],
   "source": [
    "vitamins[\"value\"].plot(kind=\"box\")"
   ]
  },
  {
   "cell_type": "code",
   "execution_count": 50,
   "id": "83f13d4d-2218-4d69-ad14-8aee9cdbc533",
   "metadata": {},
   "outputs": [
    {
     "data": {
      "image/png": "[encoded data removed]",
      "text/plain": [
       "<Figure size 640x480 with 1 Axes>"
      ]
     },
     "metadata": {},
     "output_type": "display_data"
    }
   ],
   "source": [
    "sm.qqplot(\n",
    "    vitamins[\"value\"].astype(\"int\", errors=\"ignore\"), line=\"45\", fit=True\n",
    ");"
   ]
  },
  {
   "cell_type": "markdown",
   "id": "52df4c2b-7636-49d5-a8f3-b8d6e4190f6e",
   "metadata": {},
   "source": [
    "These tests show that the distribution does not follow a normal distribution, hence, methods like z-scores for outlier detection would not give best results, but we try applying it anyways."
   ]
  },
  {
   "cell_type": "code",
   "execution_count": 51,
   "id": "0c3d586d-c0b4-410f-92da-90b1879d05c6",
   "metadata": {},
   "outputs": [],
   "source": [
    "# compute z-scores for value\n",
    "zscore = (vitamins[\"value\"] - vitamins[\"value\"].mean()) / vitamins[\n",
    "    \"value\"\n",
    "].std()\n",
    "vitamins[f\"zscore_value\"] = zscore"
   ]
  },
  {
   "cell_type": "code",
   "execution_count": 52,
   "id": "5359ff64-f4a9-4740-b571-b3b090b46586",
   "metadata": {},
   "outputs": [
    {
     "data": {
      "text/plain": [
       "Index(['id', 'value', 'units', 'description', 'type', 'zscore_value'], dtype='object')"
      ]
     },
     "execution_count": 52,
     "metadata": {},
     "output_type": "execute_result"
    }
   ],
   "source": [
    "# check new structure of dataframe\n",
    "vitamins.columns"
   ]
  },
  {
   "cell_type": "code",
   "execution_count": 53,
   "id": "7028497a-c062-4e2f-8b33-26e0c4fb1ade",
   "metadata": {},
   "outputs": [
    {
     "data": {
      "text/html": [
       "<div>\n",
       "<style scoped>\n",
       "    .dataframe tbody tr th:only-of-type {\n",
       "        vertical-align: middle;\n",
       "    }\n",
       "\n",
       "    .dataframe tbody tr th {\n",
       "        vertical-align: top;\n",
       "    }\n",
       "\n",
       "    .dataframe thead th {\n",
       "        text-align: right;\n",
       "    }\n",
       "</style>\n",
       "<table border=\"1\" class=\"dataframe\">\n",
       "  <thead>\n",
       "    <tr style=\"text-align: right;\">\n",
       "      <th></th>\n",
       "      <th>id</th>\n",
       "      <th>value</th>\n",
       "      <th>units</th>\n",
       "      <th>description</th>\n",
       "      <th>type</th>\n",
       "      <th>zscore_value</th>\n",
       "    </tr>\n",
       "  </thead>\n",
       "  <tbody>\n",
       "    <tr>\n",
       "      <th>95</th>\n",
       "      <td>18012</td>\n",
       "      <td>19.2</td>\n",
       "      <td>mg</td>\n",
       "      <td>Choline, total</td>\n",
       "      <td>Vitamins</td>\n",
       "      <td>3.130365</td>\n",
       "    </tr>\n",
       "    <tr>\n",
       "      <th>100</th>\n",
       "      <td>18012</td>\n",
       "      <td>41.8</td>\n",
       "      <td>mg</td>\n",
       "      <td>Betaine</td>\n",
       "      <td>Vitamins</td>\n",
       "      <td>7.030142</td>\n",
       "    </tr>\n",
       "    <tr>\n",
       "      <th>167</th>\n",
       "      <td>18013</td>\n",
       "      <td>19.8</td>\n",
       "      <td>mg</td>\n",
       "      <td>Choline, total</td>\n",
       "      <td>Vitamins</td>\n",
       "      <td>3.233899</td>\n",
       "    </tr>\n",
       "    <tr>\n",
       "      <th>172</th>\n",
       "      <td>18013</td>\n",
       "      <td>45.4</td>\n",
       "      <td>mg</td>\n",
       "      <td>Betaine</td>\n",
       "      <td>Vitamins</td>\n",
       "      <td>7.651346</td>\n",
       "    </tr>\n",
       "    <tr>\n",
       "      <th>306</th>\n",
       "      <td>18015</td>\n",
       "      <td>19.8</td>\n",
       "      <td>mg</td>\n",
       "      <td>Choline, total</td>\n",
       "      <td>Vitamins</td>\n",
       "      <td>3.233899</td>\n",
       "    </tr>\n",
       "    <tr>\n",
       "      <th>...</th>\n",
       "      <td>...</td>\n",
       "      <td>...</td>\n",
       "      <td>...</td>\n",
       "      <td>...</td>\n",
       "      <td>...</td>\n",
       "      <td>...</td>\n",
       "    </tr>\n",
       "    <tr>\n",
       "      <th>20733</th>\n",
       "      <td>18389</td>\n",
       "      <td>28.1</td>\n",
       "      <td>mg</td>\n",
       "      <td>Choline, total</td>\n",
       "      <td>Vitamins</td>\n",
       "      <td>4.666118</td>\n",
       "    </tr>\n",
       "    <tr>\n",
       "      <th>20903</th>\n",
       "      <td>18392</td>\n",
       "      <td>51.7</td>\n",
       "      <td>mg</td>\n",
       "      <td>Choline, total</td>\n",
       "      <td>Vitamins</td>\n",
       "      <td>8.738452</td>\n",
       "    </tr>\n",
       "    <tr>\n",
       "      <th>20984</th>\n",
       "      <td>18393</td>\n",
       "      <td>38.8</td>\n",
       "      <td>mg</td>\n",
       "      <td>Betaine</td>\n",
       "      <td>Vitamins</td>\n",
       "      <td>6.512473</td>\n",
       "    </tr>\n",
       "    <tr>\n",
       "      <th>21036</th>\n",
       "      <td>18394</td>\n",
       "      <td>21.3</td>\n",
       "      <td>mg</td>\n",
       "      <td>Betaine</td>\n",
       "      <td>Vitamins</td>\n",
       "      <td>3.492734</td>\n",
       "    </tr>\n",
       "    <tr>\n",
       "      <th>21476</th>\n",
       "      <td>18401</td>\n",
       "      <td>36.5</td>\n",
       "      <td>mg</td>\n",
       "      <td>Choline, total</td>\n",
       "      <td>Vitamins</td>\n",
       "      <td>6.115593</td>\n",
       "    </tr>\n",
       "  </tbody>\n",
       "</table>\n",
       "<p>84 rows × 6 columns</p>\n",
       "</div>"
      ],
      "text/plain": [
       "          id  value units     description      type  zscore_value\n",
       "95     18012   19.2    mg  Choline, total  Vitamins      3.130365\n",
       "100    18012   41.8    mg         Betaine  Vitamins      7.030142\n",
       "167    18013   19.8    mg  Choline, total  Vitamins      3.233899\n",
       "172    18013   45.4    mg         Betaine  Vitamins      7.651346\n",
       "306    18015   19.8    mg  Choline, total  Vitamins      3.233899\n",
       "...      ...    ...   ...             ...       ...           ...\n",
       "20733  18389   28.1    mg  Choline, total  Vitamins      4.666118\n",
       "20903  18392   51.7    mg  Choline, total  Vitamins      8.738452\n",
       "20984  18393   38.8    mg         Betaine  Vitamins      6.512473\n",
       "21036  18394   21.3    mg         Betaine  Vitamins      3.492734\n",
       "21476  18401   36.5    mg  Choline, total  Vitamins      6.115593\n",
       "\n",
       "[84 rows x 6 columns]"
      ]
     },
     "execution_count": 53,
     "metadata": {},
     "output_type": "execute_result"
    }
   ],
   "source": [
    "# which columns feature outliers w.r.t. value?\n",
    "vitamins[vitamins.zscore_value.abs() > 3]"
   ]
  },
  {
   "cell_type": "markdown",
   "id": "aa7711c8-8075-4cf4-b15c-3e4262ddc875",
   "metadata": {},
   "source": [
    "To get some intution about how many outliers to expect, we use the 68-99-99.5 rule."
   ]
  },
  {
   "cell_type": "code",
   "execution_count": 54,
   "id": "ff2815e0-0cff-442e-9192-647a571cbc4b",
   "metadata": {},
   "outputs": [
    {
     "data": {
      "text/plain": [
       "5876"
      ]
     },
     "execution_count": 54,
     "metadata": {},
     "output_type": "execute_result"
    }
   ],
   "source": [
    "# total observations\n",
    "len(vitamins)"
   ]
  },
  {
   "cell_type": "code",
   "execution_count": 55,
   "id": "f7c849cc-96fc-4794-b95d-8ea610926e46",
   "metadata": {},
   "outputs": [
    {
     "data": {
      "text/plain": [
       "17.628"
      ]
     },
     "execution_count": 55,
     "metadata": {},
     "output_type": "execute_result"
    }
   ],
   "source": [
    "# 68-95-99.7 rule -> we'd expect 21 observations beyond 3*std\n",
    "len(vitamins) * 0.003"
   ]
  },
  {
   "cell_type": "code",
   "execution_count": 56,
   "id": "80bca519-2cbd-41ec-b4e4-f2be89eb0a2f",
   "metadata": {},
   "outputs": [
    {
     "name": "stdout",
     "output_type": "stream",
     "text": [
      "Outliers value: 84\n"
     ]
    }
   ],
   "source": [
    "# Look at number of outliers.\n",
    "print(f\"Outliers value: {(vitamins.zscore_value.abs() > 3).sum()}\")"
   ]
  },
  {
   "cell_type": "code",
   "execution_count": 57,
   "id": "4e04430c-795b-4557-a80f-c5a58530ace2",
   "metadata": {},
   "outputs": [
    {
     "data": {
      "text/html": [
       "<div>\n",
       "<style scoped>\n",
       "    .dataframe tbody tr th:only-of-type {\n",
       "        vertical-align: middle;\n",
       "    }\n",
       "\n",
       "    .dataframe tbody tr th {\n",
       "        vertical-align: top;\n",
       "    }\n",
       "\n",
       "    .dataframe thead th {\n",
       "        text-align: right;\n",
       "    }\n",
       "</style>\n",
       "<table border=\"1\" class=\"dataframe\">\n",
       "  <thead>\n",
       "    <tr style=\"text-align: right;\">\n",
       "      <th></th>\n",
       "      <th>id</th>\n",
       "      <th>value</th>\n",
       "      <th>units</th>\n",
       "      <th>description</th>\n",
       "      <th>type</th>\n",
       "      <th>zscore_value</th>\n",
       "    </tr>\n",
       "  </thead>\n",
       "  <tbody>\n",
       "    <tr>\n",
       "      <th>100</th>\n",
       "      <td>18012</td>\n",
       "      <td>41.8</td>\n",
       "      <td>mg</td>\n",
       "      <td>Betaine</td>\n",
       "      <td>Vitamins</td>\n",
       "      <td>7.030142</td>\n",
       "    </tr>\n",
       "    <tr>\n",
       "      <th>172</th>\n",
       "      <td>18013</td>\n",
       "      <td>45.4</td>\n",
       "      <td>mg</td>\n",
       "      <td>Betaine</td>\n",
       "      <td>Vitamins</td>\n",
       "      <td>7.651346</td>\n",
       "    </tr>\n",
       "    <tr>\n",
       "      <th>790</th>\n",
       "      <td>18023</td>\n",
       "      <td>84.0</td>\n",
       "      <td>mg</td>\n",
       "      <td>Choline, total</td>\n",
       "      <td>Vitamins</td>\n",
       "      <td>14.312027</td>\n",
       "    </tr>\n",
       "    <tr>\n",
       "      <th>861</th>\n",
       "      <td>18024</td>\n",
       "      <td>91.9</td>\n",
       "      <td>mg</td>\n",
       "      <td>Choline, total</td>\n",
       "      <td>Vitamins</td>\n",
       "      <td>15.675224</td>\n",
       "    </tr>\n",
       "    <tr>\n",
       "      <th>937</th>\n",
       "      <td>18025</td>\n",
       "      <td>55.1</td>\n",
       "      <td>mg</td>\n",
       "      <td>Betaine</td>\n",
       "      <td>Vitamins</td>\n",
       "      <td>9.325144</td>\n",
       "    </tr>\n",
       "    <tr>\n",
       "      <th>1008</th>\n",
       "      <td>18026</td>\n",
       "      <td>58.6</td>\n",
       "      <td>mg</td>\n",
       "      <td>Betaine</td>\n",
       "      <td>Vitamins</td>\n",
       "      <td>9.929092</td>\n",
       "    </tr>\n",
       "    <tr>\n",
       "      <th>1208</th>\n",
       "      <td>18029</td>\n",
       "      <td>26.5</td>\n",
       "      <td>mg</td>\n",
       "      <td>Choline, total</td>\n",
       "      <td>Vitamins</td>\n",
       "      <td>4.390028</td>\n",
       "    </tr>\n",
       "    <tr>\n",
       "      <th>1287</th>\n",
       "      <td>18030</td>\n",
       "      <td>28.8</td>\n",
       "      <td>mg</td>\n",
       "      <td>Choline, total</td>\n",
       "      <td>Vitamins</td>\n",
       "      <td>4.786908</td>\n",
       "    </tr>\n",
       "    <tr>\n",
       "      <th>1708</th>\n",
       "      <td>18036</td>\n",
       "      <td>26.5</td>\n",
       "      <td>mg</td>\n",
       "      <td>Choline, total</td>\n",
       "      <td>Vitamins</td>\n",
       "      <td>4.390028</td>\n",
       "    </tr>\n",
       "    <tr>\n",
       "      <th>2921</th>\n",
       "      <td>18054</td>\n",
       "      <td>26.5</td>\n",
       "      <td>mg</td>\n",
       "      <td>Choline, total</td>\n",
       "      <td>Vitamins</td>\n",
       "      <td>4.390028</td>\n",
       "    </tr>\n",
       "    <tr>\n",
       "      <th>2926</th>\n",
       "      <td>18054</td>\n",
       "      <td>226.7</td>\n",
       "      <td>mg</td>\n",
       "      <td>Betaine</td>\n",
       "      <td>Vitamins</td>\n",
       "      <td>38.935842</td>\n",
       "    </tr>\n",
       "    <tr>\n",
       "      <th>2991</th>\n",
       "      <td>18055</td>\n",
       "      <td>32.8</td>\n",
       "      <td>mg</td>\n",
       "      <td>Choline, total</td>\n",
       "      <td>Vitamins</td>\n",
       "      <td>5.477134</td>\n",
       "    </tr>\n",
       "    <tr>\n",
       "      <th>3061</th>\n",
       "      <td>18056</td>\n",
       "      <td>26.5</td>\n",
       "      <td>mg</td>\n",
       "      <td>Choline, total</td>\n",
       "      <td>Vitamins</td>\n",
       "      <td>4.390028</td>\n",
       "    </tr>\n",
       "    <tr>\n",
       "      <th>3131</th>\n",
       "      <td>18057</td>\n",
       "      <td>29.2</td>\n",
       "      <td>mg</td>\n",
       "      <td>Choline, total</td>\n",
       "      <td>Vitamins</td>\n",
       "      <td>4.855930</td>\n",
       "    </tr>\n",
       "    <tr>\n",
       "      <th>3868</th>\n",
       "      <td>18068</td>\n",
       "      <td>25.1</td>\n",
       "      <td>mg</td>\n",
       "      <td>Choline, total</td>\n",
       "      <td>Vitamins</td>\n",
       "      <td>4.148448</td>\n",
       "    </tr>\n",
       "    <tr>\n",
       "      <th>4119</th>\n",
       "      <td>18072</td>\n",
       "      <td>128.4</td>\n",
       "      <td>mg</td>\n",
       "      <td>Choline, total</td>\n",
       "      <td>Vitamins</td>\n",
       "      <td>21.973537</td>\n",
       "    </tr>\n",
       "    <tr>\n",
       "      <th>4123</th>\n",
       "      <td>18072</td>\n",
       "      <td>47.7</td>\n",
       "      <td>mg</td>\n",
       "      <td>Betaine</td>\n",
       "      <td>Vitamins</td>\n",
       "      <td>8.048226</td>\n",
       "    </tr>\n",
       "    <tr>\n",
       "      <th>4547</th>\n",
       "      <td>18079</td>\n",
       "      <td>28.5</td>\n",
       "      <td>mg</td>\n",
       "      <td>Choline, total</td>\n",
       "      <td>Vitamins</td>\n",
       "      <td>4.735141</td>\n",
       "    </tr>\n",
       "    <tr>\n",
       "      <th>5172</th>\n",
       "      <td>18089</td>\n",
       "      <td>36.4</td>\n",
       "      <td>mg</td>\n",
       "      <td>Betaine</td>\n",
       "      <td>Vitamins</td>\n",
       "      <td>6.098337</td>\n",
       "    </tr>\n",
       "    <tr>\n",
       "      <th>5248</th>\n",
       "      <td>18090</td>\n",
       "      <td>37.8</td>\n",
       "      <td>mg</td>\n",
       "      <td>Choline, total</td>\n",
       "      <td>Vitamins</td>\n",
       "      <td>6.339916</td>\n",
       "    </tr>\n",
       "    <tr>\n",
       "      <th>5373</th>\n",
       "      <td>18092</td>\n",
       "      <td>55.1</td>\n",
       "      <td>mg</td>\n",
       "      <td>Choline, total</td>\n",
       "      <td>Vitamins</td>\n",
       "      <td>9.325144</td>\n",
       "    </tr>\n",
       "    <tr>\n",
       "      <th>5745</th>\n",
       "      <td>18098</td>\n",
       "      <td>36.4</td>\n",
       "      <td>mg</td>\n",
       "      <td>Choline, total</td>\n",
       "      <td>Vitamins</td>\n",
       "      <td>6.098337</td>\n",
       "    </tr>\n",
       "    <tr>\n",
       "      <th>6008</th>\n",
       "      <td>18102</td>\n",
       "      <td>45.9</td>\n",
       "      <td>mg</td>\n",
       "      <td>Choline, total</td>\n",
       "      <td>Vitamins</td>\n",
       "      <td>7.737624</td>\n",
       "    </tr>\n",
       "    <tr>\n",
       "      <th>8617</th>\n",
       "      <td>18144</td>\n",
       "      <td>29.3</td>\n",
       "      <td>mg</td>\n",
       "      <td>Choline, total</td>\n",
       "      <td>Vitamins</td>\n",
       "      <td>4.873186</td>\n",
       "    </tr>\n",
       "    <tr>\n",
       "      <th>8757</th>\n",
       "      <td>18146</td>\n",
       "      <td>27.3</td>\n",
       "      <td>mg</td>\n",
       "      <td>Choline, total</td>\n",
       "      <td>Vitamins</td>\n",
       "      <td>4.528073</td>\n",
       "    </tr>\n",
       "    <tr>\n",
       "      <th>9624</th>\n",
       "      <td>18160</td>\n",
       "      <td>51.9</td>\n",
       "      <td>mg</td>\n",
       "      <td>Betaine</td>\n",
       "      <td>Vitamins</td>\n",
       "      <td>8.772963</td>\n",
       "    </tr>\n",
       "    <tr>\n",
       "      <th>9695</th>\n",
       "      <td>18161</td>\n",
       "      <td>27.5</td>\n",
       "      <td>mg</td>\n",
       "      <td>Choline, total</td>\n",
       "      <td>Vitamins</td>\n",
       "      <td>4.562584</td>\n",
       "    </tr>\n",
       "    <tr>\n",
       "      <th>9775</th>\n",
       "      <td>18162</td>\n",
       "      <td>24.7</td>\n",
       "      <td>mg</td>\n",
       "      <td>Choline, total</td>\n",
       "      <td>Vitamins</td>\n",
       "      <td>4.079426</td>\n",
       "    </tr>\n",
       "    <tr>\n",
       "      <th>9860</th>\n",
       "      <td>18163</td>\n",
       "      <td>27.9</td>\n",
       "      <td>mg</td>\n",
       "      <td>Choline, total</td>\n",
       "      <td>Vitamins</td>\n",
       "      <td>4.631607</td>\n",
       "    </tr>\n",
       "    <tr>\n",
       "      <th>9865</th>\n",
       "      <td>18163</td>\n",
       "      <td>51.5</td>\n",
       "      <td>mg</td>\n",
       "      <td>Betaine</td>\n",
       "      <td>Vitamins</td>\n",
       "      <td>8.703941</td>\n",
       "    </tr>\n",
       "    <tr>\n",
       "      <th>10114</th>\n",
       "      <td>18167</td>\n",
       "      <td>98.7</td>\n",
       "      <td>mg</td>\n",
       "      <td>Choline, total</td>\n",
       "      <td>Vitamins</td>\n",
       "      <td>16.848608</td>\n",
       "    </tr>\n",
       "    <tr>\n",
       "      <th>10184</th>\n",
       "      <td>18168</td>\n",
       "      <td>68.7</td>\n",
       "      <td>mg</td>\n",
       "      <td>Choline, total</td>\n",
       "      <td>Vitamins</td>\n",
       "      <td>11.671913</td>\n",
       "    </tr>\n",
       "    <tr>\n",
       "      <th>10308</th>\n",
       "      <td>18170</td>\n",
       "      <td>38.8</td>\n",
       "      <td>mg</td>\n",
       "      <td>Choline, total</td>\n",
       "      <td>Vitamins</td>\n",
       "      <td>6.512473</td>\n",
       "    </tr>\n",
       "    <tr>\n",
       "      <th>10502</th>\n",
       "      <td>18173</td>\n",
       "      <td>29.1</td>\n",
       "      <td>mg</td>\n",
       "      <td>Choline, total</td>\n",
       "      <td>Vitamins</td>\n",
       "      <td>4.838675</td>\n",
       "    </tr>\n",
       "    <tr>\n",
       "      <th>10572</th>\n",
       "      <td>18174</td>\n",
       "      <td>29.1</td>\n",
       "      <td>mg</td>\n",
       "      <td>Choline, total</td>\n",
       "      <td>Vitamins</td>\n",
       "      <td>4.838675</td>\n",
       "    </tr>\n",
       "    <tr>\n",
       "      <th>10642</th>\n",
       "      <td>18175</td>\n",
       "      <td>29.1</td>\n",
       "      <td>mg</td>\n",
       "      <td>Choline, total</td>\n",
       "      <td>Vitamins</td>\n",
       "      <td>4.838675</td>\n",
       "    </tr>\n",
       "    <tr>\n",
       "      <th>11011</th>\n",
       "      <td>18180</td>\n",
       "      <td>28.0</td>\n",
       "      <td>mg</td>\n",
       "      <td>Betaine</td>\n",
       "      <td>Vitamins</td>\n",
       "      <td>4.648862</td>\n",
       "    </tr>\n",
       "    <tr>\n",
       "      <th>11545</th>\n",
       "      <td>18188</td>\n",
       "      <td>32.7</td>\n",
       "      <td>mg</td>\n",
       "      <td>Choline, total</td>\n",
       "      <td>Vitamins</td>\n",
       "      <td>5.459878</td>\n",
       "    </tr>\n",
       "    <tr>\n",
       "      <th>11743</th>\n",
       "      <td>18191</td>\n",
       "      <td>43.4</td>\n",
       "      <td>mg</td>\n",
       "      <td>Choline, total</td>\n",
       "      <td>Vitamins</td>\n",
       "      <td>7.306233</td>\n",
       "    </tr>\n",
       "    <tr>\n",
       "      <th>11863</th>\n",
       "      <td>18193</td>\n",
       "      <td>51.7</td>\n",
       "      <td>mg</td>\n",
       "      <td>Choline, total</td>\n",
       "      <td>Vitamins</td>\n",
       "      <td>8.738452</td>\n",
       "    </tr>\n",
       "    <tr>\n",
       "      <th>12198</th>\n",
       "      <td>18199</td>\n",
       "      <td>51.7</td>\n",
       "      <td>mg</td>\n",
       "      <td>Choline, total</td>\n",
       "      <td>Vitamins</td>\n",
       "      <td>8.738452</td>\n",
       "    </tr>\n",
       "    <tr>\n",
       "      <th>12270</th>\n",
       "      <td>18200</td>\n",
       "      <td>30.5</td>\n",
       "      <td>mg</td>\n",
       "      <td>Choline, total</td>\n",
       "      <td>Vitamins</td>\n",
       "      <td>5.080254</td>\n",
       "    </tr>\n",
       "    <tr>\n",
       "      <th>12679</th>\n",
       "      <td>18207</td>\n",
       "      <td>27.6</td>\n",
       "      <td>mg</td>\n",
       "      <td>Choline, total</td>\n",
       "      <td>Vitamins</td>\n",
       "      <td>4.579840</td>\n",
       "    </tr>\n",
       "    <tr>\n",
       "      <th>12908</th>\n",
       "      <td>18211</td>\n",
       "      <td>28.7</td>\n",
       "      <td>mg</td>\n",
       "      <td>Choline, total</td>\n",
       "      <td>Vitamins</td>\n",
       "      <td>4.769652</td>\n",
       "    </tr>\n",
       "    <tr>\n",
       "      <th>13342</th>\n",
       "      <td>18218</td>\n",
       "      <td>49.5</td>\n",
       "      <td>mg</td>\n",
       "      <td>Choline, total</td>\n",
       "      <td>Vitamins</td>\n",
       "      <td>8.358827</td>\n",
       "    </tr>\n",
       "    <tr>\n",
       "      <th>13478</th>\n",
       "      <td>18220</td>\n",
       "      <td>37.5</td>\n",
       "      <td>mg</td>\n",
       "      <td>Choline, total</td>\n",
       "      <td>Vitamins</td>\n",
       "      <td>6.288149</td>\n",
       "    </tr>\n",
       "    <tr>\n",
       "      <th>13604</th>\n",
       "      <td>18222</td>\n",
       "      <td>32.8</td>\n",
       "      <td>mg</td>\n",
       "      <td>Choline, total</td>\n",
       "      <td>Vitamins</td>\n",
       "      <td>5.477134</td>\n",
       "    </tr>\n",
       "    <tr>\n",
       "      <th>13861</th>\n",
       "      <td>18226</td>\n",
       "      <td>42.0</td>\n",
       "      <td>mg</td>\n",
       "      <td>Betaine</td>\n",
       "      <td>Vitamins</td>\n",
       "      <td>7.064654</td>\n",
       "    </tr>\n",
       "    <tr>\n",
       "      <th>14184</th>\n",
       "      <td>18231</td>\n",
       "      <td>31.4</td>\n",
       "      <td>mg</td>\n",
       "      <td>Choline, total</td>\n",
       "      <td>Vitamins</td>\n",
       "      <td>5.235555</td>\n",
       "    </tr>\n",
       "    <tr>\n",
       "      <th>14613</th>\n",
       "      <td>18237</td>\n",
       "      <td>26.5</td>\n",
       "      <td>mg</td>\n",
       "      <td>Choline, total</td>\n",
       "      <td>Vitamins</td>\n",
       "      <td>4.390028</td>\n",
       "    </tr>\n",
       "    <tr>\n",
       "      <th>15051</th>\n",
       "      <td>18244</td>\n",
       "      <td>29.9</td>\n",
       "      <td>mg</td>\n",
       "      <td>Choline, total</td>\n",
       "      <td>Vitamins</td>\n",
       "      <td>4.976720</td>\n",
       "    </tr>\n",
       "    <tr>\n",
       "      <th>15721</th>\n",
       "      <td>18255</td>\n",
       "      <td>32.0</td>\n",
       "      <td>mg</td>\n",
       "      <td>Choline, total</td>\n",
       "      <td>Vitamins</td>\n",
       "      <td>5.339088</td>\n",
       "    </tr>\n",
       "    <tr>\n",
       "      <th>16178</th>\n",
       "      <td>18262</td>\n",
       "      <td>55.6</td>\n",
       "      <td>mg</td>\n",
       "      <td>Choline, total</td>\n",
       "      <td>Vitamins</td>\n",
       "      <td>9.411422</td>\n",
       "    </tr>\n",
       "    <tr>\n",
       "      <th>16758</th>\n",
       "      <td>18271</td>\n",
       "      <td>28.1</td>\n",
       "      <td>mg</td>\n",
       "      <td>Choline, total</td>\n",
       "      <td>Vitamins</td>\n",
       "      <td>4.666118</td>\n",
       "    </tr>\n",
       "    <tr>\n",
       "      <th>17359</th>\n",
       "      <td>18282</td>\n",
       "      <td>27.2</td>\n",
       "      <td>mg</td>\n",
       "      <td>Choline, total</td>\n",
       "      <td>Vitamins</td>\n",
       "      <td>4.510817</td>\n",
       "    </tr>\n",
       "    <tr>\n",
       "      <th>20567</th>\n",
       "      <td>18386</td>\n",
       "      <td>28.1</td>\n",
       "      <td>mg</td>\n",
       "      <td>Choline, total</td>\n",
       "      <td>Vitamins</td>\n",
       "      <td>4.666118</td>\n",
       "    </tr>\n",
       "    <tr>\n",
       "      <th>20733</th>\n",
       "      <td>18389</td>\n",
       "      <td>28.1</td>\n",
       "      <td>mg</td>\n",
       "      <td>Choline, total</td>\n",
       "      <td>Vitamins</td>\n",
       "      <td>4.666118</td>\n",
       "    </tr>\n",
       "    <tr>\n",
       "      <th>20903</th>\n",
       "      <td>18392</td>\n",
       "      <td>51.7</td>\n",
       "      <td>mg</td>\n",
       "      <td>Choline, total</td>\n",
       "      <td>Vitamins</td>\n",
       "      <td>8.738452</td>\n",
       "    </tr>\n",
       "    <tr>\n",
       "      <th>20984</th>\n",
       "      <td>18393</td>\n",
       "      <td>38.8</td>\n",
       "      <td>mg</td>\n",
       "      <td>Betaine</td>\n",
       "      <td>Vitamins</td>\n",
       "      <td>6.512473</td>\n",
       "    </tr>\n",
       "    <tr>\n",
       "      <th>21476</th>\n",
       "      <td>18401</td>\n",
       "      <td>36.5</td>\n",
       "      <td>mg</td>\n",
       "      <td>Choline, total</td>\n",
       "      <td>Vitamins</td>\n",
       "      <td>6.115593</td>\n",
       "    </tr>\n",
       "  </tbody>\n",
       "</table>\n",
       "</div>"
      ],
      "text/plain": [
       "          id  value units     description      type  zscore_value\n",
       "100    18012   41.8    mg         Betaine  Vitamins      7.030142\n",
       "172    18013   45.4    mg         Betaine  Vitamins      7.651346\n",
       "790    18023   84.0    mg  Choline, total  Vitamins     14.312027\n",
       "861    18024   91.9    mg  Choline, total  Vitamins     15.675224\n",
       "937    18025   55.1    mg         Betaine  Vitamins      9.325144\n",
       "1008   18026   58.6    mg         Betaine  Vitamins      9.929092\n",
       "1208   18029   26.5    mg  Choline, total  Vitamins      4.390028\n",
       "1287   18030   28.8    mg  Choline, total  Vitamins      4.786908\n",
       "1708   18036   26.5    mg  Choline, total  Vitamins      4.390028\n",
       "2921   18054   26.5    mg  Choline, total  Vitamins      4.390028\n",
       "2926   18054  226.7    mg         Betaine  Vitamins     38.935842\n",
       "2991   18055   32.8    mg  Choline, total  Vitamins      5.477134\n",
       "3061   18056   26.5    mg  Choline, total  Vitamins      4.390028\n",
       "3131   18057   29.2    mg  Choline, total  Vitamins      4.855930\n",
       "3868   18068   25.1    mg  Choline, total  Vitamins      4.148448\n",
       "4119   18072  128.4    mg  Choline, total  Vitamins     21.973537\n",
       "4123   18072   47.7    mg         Betaine  Vitamins      8.048226\n",
       "4547   18079   28.5    mg  Choline, total  Vitamins      4.735141\n",
       "5172   18089   36.4    mg         Betaine  Vitamins      6.098337\n",
       "5248   18090   37.8    mg  Choline, total  Vitamins      6.339916\n",
       "5373   18092   55.1    mg  Choline, total  Vitamins      9.325144\n",
       "5745   18098   36.4    mg  Choline, total  Vitamins      6.098337\n",
       "6008   18102   45.9    mg  Choline, total  Vitamins      7.737624\n",
       "8617   18144   29.3    mg  Choline, total  Vitamins      4.873186\n",
       "8757   18146   27.3    mg  Choline, total  Vitamins      4.528073\n",
       "9624   18160   51.9    mg         Betaine  Vitamins      8.772963\n",
       "9695   18161   27.5    mg  Choline, total  Vitamins      4.562584\n",
       "9775   18162   24.7    mg  Choline, total  Vitamins      4.079426\n",
       "9860   18163   27.9    mg  Choline, total  Vitamins      4.631607\n",
       "9865   18163   51.5    mg         Betaine  Vitamins      8.703941\n",
       "10114  18167   98.7    mg  Choline, total  Vitamins     16.848608\n",
       "10184  18168   68.7    mg  Choline, total  Vitamins     11.671913\n",
       "10308  18170   38.8    mg  Choline, total  Vitamins      6.512473\n",
       "10502  18173   29.1    mg  Choline, total  Vitamins      4.838675\n",
       "10572  18174   29.1    mg  Choline, total  Vitamins      4.838675\n",
       "10642  18175   29.1    mg  Choline, total  Vitamins      4.838675\n",
       "11011  18180   28.0    mg         Betaine  Vitamins      4.648862\n",
       "11545  18188   32.7    mg  Choline, total  Vitamins      5.459878\n",
       "11743  18191   43.4    mg  Choline, total  Vitamins      7.306233\n",
       "11863  18193   51.7    mg  Choline, total  Vitamins      8.738452\n",
       "12198  18199   51.7    mg  Choline, total  Vitamins      8.738452\n",
       "12270  18200   30.5    mg  Choline, total  Vitamins      5.080254\n",
       "12679  18207   27.6    mg  Choline, total  Vitamins      4.579840\n",
       "12908  18211   28.7    mg  Choline, total  Vitamins      4.769652\n",
       "13342  18218   49.5    mg  Choline, total  Vitamins      8.358827\n",
       "13478  18220   37.5    mg  Choline, total  Vitamins      6.288149\n",
       "13604  18222   32.8    mg  Choline, total  Vitamins      5.477134\n",
       "13861  18226   42.0    mg         Betaine  Vitamins      7.064654\n",
       "14184  18231   31.4    mg  Choline, total  Vitamins      5.235555\n",
       "14613  18237   26.5    mg  Choline, total  Vitamins      4.390028\n",
       "15051  18244   29.9    mg  Choline, total  Vitamins      4.976720\n",
       "15721  18255   32.0    mg  Choline, total  Vitamins      5.339088\n",
       "16178  18262   55.6    mg  Choline, total  Vitamins      9.411422\n",
       "16758  18271   28.1    mg  Choline, total  Vitamins      4.666118\n",
       "17359  18282   27.2    mg  Choline, total  Vitamins      4.510817\n",
       "20567  18386   28.1    mg  Choline, total  Vitamins      4.666118\n",
       "20733  18389   28.1    mg  Choline, total  Vitamins      4.666118\n",
       "20903  18392   51.7    mg  Choline, total  Vitamins      8.738452\n",
       "20984  18393   38.8    mg         Betaine  Vitamins      6.512473\n",
       "21476  18401   36.5    mg  Choline, total  Vitamins      6.115593"
      ]
     },
     "execution_count": 57,
     "metadata": {},
     "output_type": "execute_result"
    }
   ],
   "source": [
    "outlier_condition = vitamins.zscore_value.abs() > 4\n",
    "vitamins[outlier_condition]"
   ]
  },
  {
   "cell_type": "markdown",
   "id": "57f4e432-f2c6-4401-88e6-830d90101cb9",
   "metadata": {},
   "source": [
    "Given this z-score analysis, we can remove these outliers from the dataset. Note that these aren't necessarily actual outliers, especially because the\n",
    "data was not actually normally distributed."
   ]
  },
  {
   "cell_type": "code",
   "execution_count": 58,
   "id": "9f77b76a-325f-4309-b023-58051bdf208a",
   "metadata": {},
   "outputs": [
    {
     "data": {
      "text/html": [
       "<div>\n",
       "<style scoped>\n",
       "    .dataframe tbody tr th:only-of-type {\n",
       "        vertical-align: middle;\n",
       "    }\n",
       "\n",
       "    .dataframe tbody tr th {\n",
       "        vertical-align: top;\n",
       "    }\n",
       "\n",
       "    .dataframe thead th {\n",
       "        text-align: right;\n",
       "    }\n",
       "</style>\n",
       "<table border=\"1\" class=\"dataframe\">\n",
       "  <thead>\n",
       "    <tr style=\"text-align: right;\">\n",
       "      <th></th>\n",
       "      <th>id</th>\n",
       "      <th>value</th>\n",
       "      <th>units</th>\n",
       "      <th>description</th>\n",
       "      <th>type</th>\n",
       "      <th>zscore_value</th>\n",
       "    </tr>\n",
       "  </thead>\n",
       "  <tbody>\n",
       "    <tr>\n",
       "      <th>19</th>\n",
       "      <td>18011</td>\n",
       "      <td>0.025</td>\n",
       "      <td>mg</td>\n",
       "      <td>Retinol</td>\n",
       "      <td>Vitamins</td>\n",
       "      <td>-0.178406</td>\n",
       "    </tr>\n",
       "    <tr>\n",
       "      <th>21</th>\n",
       "      <td>18011</td>\n",
       "      <td>0.400</td>\n",
       "      <td>mg</td>\n",
       "      <td>Vitamin C, total ascorbic acid</td>\n",
       "      <td>Vitamins</td>\n",
       "      <td>-0.113697</td>\n",
       "    </tr>\n",
       "    <tr>\n",
       "      <th>22</th>\n",
       "      <td>18011</td>\n",
       "      <td>0.350</td>\n",
       "      <td>mg</td>\n",
       "      <td>Thiamin</td>\n",
       "      <td>Vitamins</td>\n",
       "      <td>-0.122325</td>\n",
       "    </tr>\n",
       "    <tr>\n",
       "      <th>23</th>\n",
       "      <td>18011</td>\n",
       "      <td>0.357</td>\n",
       "      <td>mg</td>\n",
       "      <td>Riboflavin</td>\n",
       "      <td>Vitamins</td>\n",
       "      <td>-0.121117</td>\n",
       "    </tr>\n",
       "    <tr>\n",
       "      <th>24</th>\n",
       "      <td>18011</td>\n",
       "      <td>3.021</td>\n",
       "      <td>mg</td>\n",
       "      <td>Niacin</td>\n",
       "      <td>Vitamins</td>\n",
       "      <td>0.338573</td>\n",
       "    </tr>\n",
       "    <tr>\n",
       "      <th>...</th>\n",
       "      <td>...</td>\n",
       "      <td>...</td>\n",
       "      <td>...</td>\n",
       "      <td>...</td>\n",
       "      <td>...</td>\n",
       "      <td>...</td>\n",
       "    </tr>\n",
       "    <tr>\n",
       "      <th>21538</th>\n",
       "      <td>18402</td>\n",
       "      <td>0.070</td>\n",
       "      <td>mg</td>\n",
       "      <td>Thiamin</td>\n",
       "      <td>Vitamins</td>\n",
       "      <td>-0.170641</td>\n",
       "    </tr>\n",
       "    <tr>\n",
       "      <th>21539</th>\n",
       "      <td>18402</td>\n",
       "      <td>0.180</td>\n",
       "      <td>mg</td>\n",
       "      <td>Riboflavin</td>\n",
       "      <td>Vitamins</td>\n",
       "      <td>-0.151660</td>\n",
       "    </tr>\n",
       "    <tr>\n",
       "      <th>21540</th>\n",
       "      <td>18402</td>\n",
       "      <td>4.700</td>\n",
       "      <td>mg</td>\n",
       "      <td>Niacin</td>\n",
       "      <td>Vitamins</td>\n",
       "      <td>0.628296</td>\n",
       "    </tr>\n",
       "    <tr>\n",
       "      <th>21541</th>\n",
       "      <td>18402</td>\n",
       "      <td>0.550</td>\n",
       "      <td>mg</td>\n",
       "      <td>Pantothenic acid</td>\n",
       "      <td>Vitamins</td>\n",
       "      <td>-0.087814</td>\n",
       "    </tr>\n",
       "    <tr>\n",
       "      <th>21542</th>\n",
       "      <td>18402</td>\n",
       "      <td>0.050</td>\n",
       "      <td>mg</td>\n",
       "      <td>Vitamin B-6</td>\n",
       "      <td>Vitamins</td>\n",
       "      <td>-0.174092</td>\n",
       "    </tr>\n",
       "  </tbody>\n",
       "</table>\n",
       "<p>5816 rows × 6 columns</p>\n",
       "</div>"
      ],
      "text/plain": [
       "          id  value units                     description      type  \\\n",
       "19     18011  0.025    mg                         Retinol  Vitamins   \n",
       "21     18011  0.400    mg  Vitamin C, total ascorbic acid  Vitamins   \n",
       "22     18011  0.350    mg                         Thiamin  Vitamins   \n",
       "23     18011  0.357    mg                      Riboflavin  Vitamins   \n",
       "24     18011  3.021    mg                          Niacin  Vitamins   \n",
       "...      ...    ...   ...                             ...       ...   \n",
       "21538  18402  0.070    mg                         Thiamin  Vitamins   \n",
       "21539  18402  0.180    mg                      Riboflavin  Vitamins   \n",
       "21540  18402  4.700    mg                          Niacin  Vitamins   \n",
       "21541  18402  0.550    mg                Pantothenic acid  Vitamins   \n",
       "21542  18402  0.050    mg                     Vitamin B-6  Vitamins   \n",
       "\n",
       "       zscore_value  \n",
       "19        -0.178406  \n",
       "21        -0.113697  \n",
       "22        -0.122325  \n",
       "23        -0.121117  \n",
       "24         0.338573  \n",
       "...             ...  \n",
       "21538     -0.170641  \n",
       "21539     -0.151660  \n",
       "21540      0.628296  \n",
       "21541     -0.087814  \n",
       "21542     -0.174092  \n",
       "\n",
       "[5816 rows x 6 columns]"
      ]
     },
     "execution_count": 58,
     "metadata": {},
     "output_type": "execute_result"
    }
   ],
   "source": [
    "vitamins.drop(vitamins[outlier_condition].index, inplace=True)\n",
    "vitamins"
   ]
  },
  {
   "cell_type": "markdown",
   "id": "c196fcc0-4e69-4149-8927-6f93ac81a9a1",
   "metadata": {},
   "source": [
    "By remaking the plots we can see a small, but not great improvement"
   ]
  },
  {
   "cell_type": "code",
   "execution_count": 59,
   "id": "ee7ed906-2d7e-4842-8ee4-64443d4a3de9",
   "metadata": {},
   "outputs": [
    {
     "data": {
      "text/plain": [
       "Text(0.5, 1.0, 'Fit Values: 0.62 (mean) and 2.21 (std)')"
      ]
     },
     "execution_count": 59,
     "metadata": {},
     "output_type": "execute_result"
    },
    {
     "data": {
      "image/png": "[encoded data removed]",
      "text/plain": [
       "<Figure size 640x480 with 1 Axes>"
      ]
     },
     "metadata": {},
     "output_type": "display_data"
    }
   ],
   "source": [
    "mean, std = norm.fit(vitamins[\"value\"])\n",
    "plt.hist(vitamins[\"value\"], bins=50)\n",
    "title = \"Fit Values: {:.2f} (mean) and {:.2f} (std)\".format(mean, std)\n",
    "plt.xlabel(\"mgs of vitamins\")\n",
    "plt.ylabel(\"Frequency\")\n",
    "plt.title(title)"
   ]
  },
  {
   "cell_type": "code",
   "execution_count": 60,
   "id": "e093e4ba-64c6-439c-a318-c9d0270e2377",
   "metadata": {},
   "outputs": [
    {
     "data": {
      "text/plain": [
       "<AxesSubplot: >"
      ]
     },
     "execution_count": 60,
     "metadata": {},
     "output_type": "execute_result"
    },
    {
     "data": {
      "image/png": "[encoded data removed]",
      "text/plain": [
       "<Figure size 640x480 with 1 Axes>"
      ]
     },
     "metadata": {},
     "output_type": "display_data"
    }
   ],
   "source": [
    "vitamins[\"value\"].plot(kind=\"box\")"
   ]
  },
  {
   "cell_type": "code",
   "execution_count": 61,
   "id": "3875fae8-c2a7-491a-b31d-7c6d732a4d21",
   "metadata": {},
   "outputs": [
    {
     "data": {
      "image/png": "[encoded data removed]",
      "text/plain": [
       "<Figure size 640x480 with 1 Axes>"
      ]
     },
     "metadata": {},
     "output_type": "display_data"
    }
   ],
   "source": [
    "sm.qqplot(\n",
    "    vitamins[\"value\"].astype(\"int\", errors=\"ignore\"), line=\"45\", fit=True\n",
    ");"
   ]
  },
  {
   "cell_type": "code",
   "execution_count": 62,
   "id": "4109765a-039e-458a-ad09-5f54aafbd54b",
   "metadata": {},
   "outputs": [
    {
     "data": {
      "text/plain": [
       "0.000    1680\n",
       "0.001      79\n",
       "0.100      62\n",
       "0.300      52\n",
       "0.003      48\n",
       "         ... \n",
       "9.300       1\n",
       "0.224       1\n",
       "0.169       1\n",
       "0.257       1\n",
       "3.790       1\n",
       "Name: value, Length: 1157, dtype: int64"
      ]
     },
     "execution_count": 62,
     "metadata": {},
     "output_type": "execute_result"
    }
   ],
   "source": [
    "# There are a lot of zeros, which shouldn't represent outliers or be substitued with NaNs, because it is assumed\n",
    "# that they correspond to a corrent value of a vitamin in a certain product\n",
    "vitamins[\"value\"].value_counts()"
   ]
  },
  {
   "cell_type": "markdown",
   "id": "c7501696-9a66-442d-aa3c-7533ab5147f3",
   "metadata": {},
   "source": [
    "The z-score method was used, although the data did not follow a normal distribution, and the \"potential\" outliers were removed to show the change in the plots.\n",
    "Thus, in this scenario, it is particularly hard to detect outliers.\n",
    "In general, the different methods can detect different types of outliers: from Global Outliers, to Contextual Outliers, to Collective Outliers. They can also be based on different assumptions and give different results depending on the characteristics of the data, thus measuring measuring different metrics. For instance, Z-score is most accurate when applied to normally distributed data, while Interquartile Range m easures dispersion/variability of the data, but doesn't give good results for power law/exponential distributions"
   ]
  }
 ],
 "metadata": {
  "kernelspec": {
   "display_name": "dataeng_kernel",
   "language": "python",
   "name": "dataeng_kernel"
  },
  "language_info": {
   "codemirror_mode": {
    "name": "ipython",
    "version": 3
   },
   "file_extension": ".py",
   "mimetype": "text/x-python",
   "name": "python",
   "nbconvert_exporter": "python",
   "pygments_lexer": "ipython3",
   "version": "3.8.10"
  },
  "vscode": {
   "interpreter": {
    "hash": "916dbcbb3f70747c44a77c7bcd40155683ae19c65e1c03b4aa3499c5328201f1"
   }
  }
 },
 "nbformat": 4,
 "nbformat_minor": 5
}
