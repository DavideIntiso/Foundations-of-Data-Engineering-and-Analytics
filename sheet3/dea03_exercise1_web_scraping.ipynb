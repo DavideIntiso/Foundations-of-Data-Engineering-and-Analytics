{
 "cells": [
  {
   "cell_type": "code",
   "execution_count": 1,
   "id": "00fdb794",
   "metadata": {},
   "outputs": [],
   "source": [
    "import math\n",
    "import os\n",
    "\n",
    "import pandas as pd\n",
    "\n",
    "pd.options.mode.chained_assignment = None  # default='warn'\n",
    "import seaborn as sb\n",
    "import statsmodels.api as sm\n",
    "from matplotlib import pyplot as plt\n",
    "from scipy.stats import norm"
   ]
  },
  {
   "cell_type": "markdown",
   "id": "256f7bc8",
   "metadata": {},
   "source": [
    "## Exercise 1\n",
    "\n",
    "### a) \n",
    "* only use data for personal use and analysis\n",
    "* data should not cause financial or reputational damage to its owners\n",
    "* make sure you not collect data which is protected by copyright -> websites Terms and Conditions/Privacy Policy\n",
    "* don't put heavy load on webservers where you are scrapping from\n",
    "* not collect information which includes personal data and does not violate the Terms of Service\n"
   ]
  },
  {
   "cell_type": "markdown",
   "id": "4ce1a147",
   "metadata": {},
   "source": [
    "### b)"
   ]
  },
  {
   "cell_type": "code",
   "execution_count": null,
   "id": "34e7a2e1",
   "metadata": {},
   "outputs": [],
   "source": []
  }
 ],
 "metadata": {
  "kernelspec": {
   "display_name": "dataeng_kernel",
   "language": "python",
   "name": "dataeng_kernel"
  },
  "language_info": {
   "codemirror_mode": {
    "name": "ipython",
    "version": 3
   },
   "file_extension": ".py",
   "mimetype": "text/x-python",
   "name": "python",
   "nbconvert_exporter": "python",
   "pygments_lexer": "ipython3",
   "version": "3.10.7"
  },
  "vscode": {
   "interpreter": {
    "hash": "916dbcbb3f70747c44a77c7bcd40155683ae19c65e1c03b4aa3499c5328201f1"
   }
  }
 },
 "nbformat": 4,
 "nbformat_minor": 5
}
